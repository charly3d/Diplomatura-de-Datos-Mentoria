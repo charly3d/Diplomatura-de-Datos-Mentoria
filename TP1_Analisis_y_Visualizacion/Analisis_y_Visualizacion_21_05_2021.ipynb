{
  "nbformat": 4,
  "nbformat_minor": 0,
  "metadata": {
    "kernelspec": {
      "display_name": "Python 3",
      "language": "python",
      "name": "python3"
    },
    "language_info": {
      "codemirror_mode": {
        "name": "ipython",
        "version": 3
      },
      "file_extension": ".py",
      "mimetype": "text/x-python",
      "name": "python",
      "nbconvert_exporter": "python",
      "pygments_lexer": "ipython3",
      "version": "3.8.5"
    },
    "colab": {
      "name": "Analisis_y_Visualizacion 21-05-2021.ipynb",
      "provenance": [],
      "collapsed_sections": [],
      "toc_visible": true
    }
  },
  "cells": [
    {
      "cell_type": "markdown",
      "metadata": {
        "id": "XjV3Vk3x9YuQ"
      },
      "source": [
        "# Selección de cripto activos para una cartera de inversión"
      ]
    },
    {
      "cell_type": "markdown",
      "metadata": {
        "id": "bC3dg84K9YuV"
      },
      "source": [
        "# Trabajo Práctico 1 -  Análisis y Visualización"
      ]
    },
    {
      "cell_type": "markdown",
      "metadata": {
        "id": "8AT3-rPL9YuV"
      },
      "source": [
        "## Introducción\n",
        "\n",
        "En este práctico se pretende obtener una primera aproximación de los datasets bajo análisis. En primer lugar se cargan y presentan brevemente los datos, luego se proponen las consignas a seguir para la resolución del mismo."
      ]
    },
    {
      "cell_type": "markdown",
      "metadata": {
        "id": "bQW0IHhd9Yua"
      },
      "source": [
        "# Condiciones de entrega\n",
        "\n",
        "Realizar un informe en el cual se presenten los resultados y conclusiones del análisis desarrollado. El mismo debe estar pensado para un público técnico pero que desconoce los aspectos propios del problema a resolver. Dicho informe puede ser un notebook, a condición de que en el mismo se efectúe un análisis escrito suficientemente detallado de los resultados. "
      ]
    },
    {
      "cell_type": "markdown",
      "metadata": {
        "id": "y5GAgdHf9Yua"
      },
      "source": [
        "## Parte I\n",
        "\n",
        "- Determine el tipo de variables y el período de tiempo bajo análisis. ¿El periodo es el mismo para todos los activos?\n"
      ]
    },
    {
      "cell_type": "markdown",
      "metadata": {
        "id": "lI2CkaOE9YuY"
      },
      "source": [
        "#### Variables\n",
        "\n",
        "- __Fecha__: se la usa como índice del _pandasDataFrame_.\n",
        "\n",
        "#### Activos ( con sus respectivos precios OHLC ):\n",
        "\n",
        "Todos los activos están expresados en una misma moneda, *quote*, que en nuestro caso es USDT ( un token de USD )\n",
        "\n",
        "- __BTCUSDT__\n",
        "- __ETHUSDT__\n",
        "- __BNBUSDT__\n",
        "- __ADAUSDT__\n",
        "- __DOTUSDT__\n",
        "- __BCHUSDT__\n",
        "- __LTCUSDT__\n",
        "- __LINKUSDT__\n",
        "- __ETCUSDT__\n",
        "- __EOSUSDT__\n",
        "- __XMRUSDT__\n",
        "- __NEOUSDT__\n",
        "- __AAVEUSDT__\n",
        "- __MKRUSDT__\n",
        "- __COMPUSDT__\n",
        "- __DASHUSDT__\n",
        "\n",
        "\n",
        "#### ¿Cuándo opera el mercado?\n",
        "\n",
        "Este es un mercado que trabaja 24/7, es decir, está operando constantemente. En cada caso tenemos datos por hora (por lo tanto, una sesión equivale a una hora) de los diferentes precios **OHLC** de cada activo y el volumen, a saber:\n",
        "\n",
        "- **OPEN :** precio al cual abre el activo, en la sesión.\n",
        "- **HIGH :** mayor precio alcanzado por el activo en la sesión.\n",
        "- **LOW :** menor precio alcanzado por el activo en la sesión.\n",
        "- **CLOSE :** precio del activo al momento de cerrar la sesión. \n",
        "- **VOLUMEN :** cantidad del activo operado en la sesión.\n",
        "\n",
        "Para conocer más sobre estos proyectos, pueden visitar la página [CoinMarketCap](https://coinmarketcap.com/). Allí encontrarán datos interesantes sobre cada par, su posición en el mercado, nacimiento de cada proyecto, entre otros."
      ]
    },
    {
      "cell_type": "markdown",
      "metadata": {
        "id": "JD5zuUs69YuZ"
      },
      "source": [
        "# ¡Actividades!\n",
        "\n",
        "El objetivo general del práctico es realizar un análsis exploratorio de __los activos__ propuestos.\n",
        "Se plantean algunas sugerencias para explorar las series en forma individual y conjunta por medio de medidas descriptivas y visualizaciones.\n",
        "\n",
        "Como las observaciones se encuentran indexadas en el tiempo, este tipo de datos se conocen como __series de tiempo__, por lo que algunas de las herramientas estadísticas habituales deben interpretarse con cierto cuidado y se pueden usar algunos recursos analíticos adicionales. \n",
        "\n",
        "A continuación comparto algunos links que puede ser de ayuda para el abordaje de nuestro problema.\n",
        "\n",
        "- [Tutorial: Time Series analysis with pandas](https://www.dataquest.io/blog/tutorial-time-series-analysis-with-pandas/)\n",
        "- [Kaggle : Everything you can do with a time series](https://www.kaggle.com/thebrownviking20/everything-you-can-do-with-a-time-series)\n",
        "- [Kaggle: Time series analysis in Python](https://www.kaggle.com/kashnitsky/topic-9-part-1-time-series-analysis-in-python)\n",
        "\n",
        "## Parte I\n",
        "\n",
        "Se proponen las siguientes actividades:\n",
        "\n",
        "\n",
        "- Determine el tipo de variables y el período de tiempo bajo análisis. ¿El periodo es el mismo para todos los activos?\n",
        "\n",
        "\n",
        "- Indague sobre la existencia de valores faltantes. ¿Cómo trataría a los faltantes? ¿Por qué? \n",
        "\n",
        "\n",
        "- Analice las distribuciones por medio de gráficos y medidas de estadística descriptiva (por ejemplo: media, varianza y coeficiente de variación).\n",
        "\n",
        "\n",
        "- ¿Hay outliers?\n",
        "\n",
        "\n",
        "- Seleccione un activo y grafique un boxplot para cada mes (y/o semana). ¿La distribución se mantiene constante en el tiempo?\n",
        "\n",
        "\n",
        "- Explore la existencia de estacionalidad. **(Preguntar a la profe)**\n",
        "\n",
        "\n",
        "- Estudie la evolución temporal de los activos. ¿En qué sentido tienden a moverse? ¿Hay períodos de crisis? **(Grafico de Vela, que periodo a analizar)**¿Los activos tienden a moverse en forma conjunta? **(Grafico de linea de todos los activos, ver que pasa)** En caso de que existan crisis, ¿son globales o individuales? \n",
        "\n",
        "## Parte II\n",
        "\n",
        "Que el precio de un activo sea mayor al de otro no significa directamente que el primero sea una mejor inversión, entonces, el análisis de este tipo de series se centra por lo general en el cambio porcentual de los precios en vez del cambio en los valores absolutos. Esto resulta en que en vez de modelar los precios de los activos, previamente se habitúa realizar una transformación logarítmica o trabajar con la tasa de rendimiento. \n",
        "\n",
        "\n",
        "- Calcule los logaritmos naturales de los precios de los activos y la serie de tasas de rendimiento (para ello explorar el método pct_change()).\n",
        "\n",
        "\n",
        "- Realice nuevamente un análisis de las distribuciones por medio de gráficos y medidas de estadística descriptiva con las nuevas series. \n",
        "\n",
        "\n",
        "- Explore la volatilidad de las series, por ejemplo graficando las desviaciones estándar móviles.**(https://www.forex.in.rs/mercado/indicador-de-desviacion-de-la-media-movil/)**"
      ]
    },
    {
      "cell_type": "markdown",
      "metadata": {
        "id": "8ah8Jkml9Yua"
      },
      "source": [
        "# Fecha de entrega\n",
        "\n",
        "- __Versión preliminar: 1/6__ \n",
        "\n",
        "- __Versión final: 6/6__"
      ]
    },
    {
      "cell_type": "markdown",
      "metadata": {
        "id": "3ZKNCSeq9YuW"
      },
      "source": [
        "### Carga del dataset"
      ]
    },
    {
      "cell_type": "markdown",
      "metadata": {
        "id": "jTyTfPlM9YuW"
      },
      "source": [
        "Primero, comenzamos importando las librerías necesarias. Luego, cargaremos un único dataset, pero recuerden que en la carpeta **data** tenemos un dataset por cada activo disponible."
      ]
    },
    {
      "cell_type": "code",
      "metadata": {
        "id": "HYEUw8X89YuW"
      },
      "source": [
        "import pandas as pd\n",
        "import numpy as np\n",
        "import os\n",
        "import re\n",
        "import requests\n",
        "import matplotlib.pyplot as plt\n",
        "import seaborn #as sns"
      ],
      "execution_count": 1,
      "outputs": []
    },
    {
      "cell_type": "code",
      "metadata": {
        "id": "ikxIY1Lr9YuW"
      },
      "source": [
        "##ESTA CELDA Y LA SIGUIENTE SE PODRIAN BORRAR\n",
        "\n",
        "#Funcion que lee todas las bases de datos y crea un unico dataframe\n",
        "def creardataframe(ruta):\n",
        "    df=pd.DataFrame()\n",
        "    listaarchivos=os.listdir(ruta) #Busca todos los archivo y carpetas del directorio\n",
        "    for n_archivo in listaarchivos:#recorre cada archivo\n",
        "        ruta_archivo=ruta+'/'+n_archivo\n",
        "        if os.path.isfile(ruta_archivo):#si es un archivo llama la funcion que crea el dataframe\n",
        "          df=pd.concat([df,dataframe( ruta_archivo,n_archivo)],axis=0)\n",
        "    return df     \n",
        "#crear un data frame de un csv y le crea una columna con el nombre del cripto\n",
        "\n",
        "def dataframe (archivo,nombre):\n",
        "    try:\n",
        "        df=pd.read_csv(archivo,\n",
        "                      index_col=0, parse_dates=True, dayfirst= True)\n",
        "        df.loc[:,'cripto_activo']=nombre[:-4]\n",
        "        return df\n",
        "    except:\n",
        "        print('Error en %s'% archivo)"
      ],
      "execution_count": 2,
      "outputs": []
    },
    {
      "cell_type": "code",
      "metadata": {
        "colab": {
          "base_uri": "https://localhost:8080/"
        },
        "id": "v7_UwhJvkPU8",
        "outputId": "5f4c2da9-6c15-47f2-b8af-3298366dfc0b"
      },
      "source": [
        "from google.colab import drive\n",
        "drive.mount('/content/drive')\n"
      ],
      "execution_count": 3,
      "outputs": [
        {
          "output_type": "stream",
          "text": [
            "Drive already mounted at /content/drive; to attempt to forcibly remount, call drive.mount(\"/content/drive\", force_remount=True).\n"
          ],
          "name": "stdout"
        }
      ]
    },
    {
      "cell_type": "code",
      "metadata": {
        "colab": {
          "base_uri": "https://localhost:8080/"
        },
        "id": "MhhpcidWrA17",
        "outputId": "54994c30-ba93-4ff2-9a6a-f2448a2fa3e4"
      },
      "source": [
        "# After executing the cell above, Drive\n",
        "# files will be present in \"/content/drive/My Drive\".\n",
        "!ls \"/content/drive/My Drive\""
      ],
      "execution_count": 4,
      "outputs": [
        {
          "output_type": "stream",
          "text": [
            "'6_5 com 2.docx'\n",
            " BACKUP22_9_2020\n",
            "'Busco techo.xlsx'\n",
            "'Carta Expe 3.docx'\n",
            "'Carta Famaf.docx'\n",
            " Classroom\n",
            " COE\n",
            "'COE yo.gdoc'\n",
            "'Colab Notebooks'\n",
            "'Cronograma Expe V.gsheet'\n",
            "'Currículum ayudante de alumnes 2019.docx'\n",
            "'Currículum ayudante de estudiantes 2019.docx'\n",
            " DATA_SCIENCE\n",
            " ESTEBAN\n",
            " FaMAF\n",
            " gource.mp4\n",
            " ivanna.gdoc\n",
            "'Marilin Noelia Gordillo.gsheet'\n",
            "'Meet Recordings'\n",
            "'MOUSE GUARD'\n",
            " OUTLINES.gdoc\n",
            " Particular\n",
            " PhD\n",
            " Resumen_Plan.docx\n",
            " ROFEX20.gdoc\n",
            "'Seguimiento d3 18.12.gsheet'\n",
            " SyC_inversiones\n",
            " Trabajo\n",
            " WORKSHOP_WTPC\n"
          ],
          "name": "stdout"
        }
      ]
    },
    {
      "cell_type": "markdown",
      "metadata": {
        "id": "4mtA2rZMtbQj"
      },
      "source": [
        "#Importando desde Google Drive los directorios"
      ]
    },
    {
      "cell_type": "code",
      "metadata": {
        "colab": {
          "base_uri": "https://localhost:8080/"
        },
        "id": "-RC3Ka6crsnh",
        "outputId": "2dd29245-afed-46b6-ca2b-4b251b60fd75"
      },
      "source": [
        "%cd /content/drive/My Drive/DATA_SCIENCE/DIPLODATOS/mentoria\n",
        "\n",
        "!ls \"/content/drive/My Drive/DATA_SCIENCE/DIPLODATOS/mentoria\"\n"
      ],
      "execution_count": 5,
      "outputs": [
        {
          "output_type": "stream",
          "text": [
            "/content/drive/My Drive/DATA_SCIENCE/DIPLODATOS/mentoria\n",
            "'Analisis_y_Visualizacion 21-05-2021.ipynb'   data   imagen_tapa.jpg\n"
          ],
          "name": "stdout"
        }
      ]
    },
    {
      "cell_type": "code",
      "metadata": {
        "id": "1wnFPs6A9YuX"
      },
      "source": [
        "directorio='data'\n",
        "leertodosDataSet=True\n",
        "#leertodosDataSet=False\n",
        "\n",
        "if leertodosDataSet:\n",
        "    df=creardataframe(directorio)\n",
        "else:\n",
        "    df = pd.read_csv(directorio+\"/ADAUSDT.csv\", index_col=0, parse_dates=True, dayfirst= True)\n",
        "# Los argumentos index_col=0 y parse_dates se emplean para que la columna FECHA sea usada como índice"
      ],
      "execution_count": 6,
      "outputs": []
    },
    {
      "cell_type": "code",
      "metadata": {
        "colab": {
          "base_uri": "https://localhost:8080/",
          "height": 424
        },
        "id": "S8I93upyCROd",
        "outputId": "0f6ed7f0-3289-4f72-91c0-e9d972097bf6"
      },
      "source": [
        "##Abrir todos los Data Set de criptomonedas y hacer un solo data frame agregando una columna que lo identifica\n",
        "df=pd.DataFrame()  \n",
        "\n",
        "#Url donde se encuentran los datos\n",
        "url = 'https://github.com/charly3d/Diplomatura-de-Datos-Mentoria/blob/main/data/'             \n",
        "\n",
        "#Listado con los nombres de los criptoactivos que figuran en el url\n",
        "t = requests.get(url).text                                                                    \n",
        "criptoactivos = re.findall(r'data/(\\w+)\\.csv', t)      \n",
        "\n",
        "#Url Raw para poder levantar los datos\n",
        "url2='https://raw.githubusercontent.com/charly3d/Diplomatura-de-Datos-Mentoria/main/data/'   \n",
        "\n",
        "#Por cada cripto activo en la lista crea un dataframe, le agrega una columna con el nombre del cripto y los concatena                                                                          \n",
        "for c in criptoactivos:                                                                       \n",
        "  dfcripto=pd.read_csv(url2 + c+'.csv',index_col=0, parse_dates=True, dayfirst= True)\n",
        "  dfcripto.loc[:,'cripto_activo']=c\n",
        "  df = pd.concat([df,dfcripto],axis=0)\n",
        "\n",
        "df"
      ],
      "execution_count": 7,
      "outputs": [
        {
          "output_type": "execute_result",
          "data": {
            "text/html": [
              "<div>\n",
              "<style scoped>\n",
              "    .dataframe tbody tr th:only-of-type {\n",
              "        vertical-align: middle;\n",
              "    }\n",
              "\n",
              "    .dataframe tbody tr th {\n",
              "        vertical-align: top;\n",
              "    }\n",
              "\n",
              "    .dataframe thead th {\n",
              "        text-align: right;\n",
              "    }\n",
              "</style>\n",
              "<table border=\"1\" class=\"dataframe\">\n",
              "  <thead>\n",
              "    <tr style=\"text-align: right;\">\n",
              "      <th></th>\n",
              "      <th>open</th>\n",
              "      <th>close</th>\n",
              "      <th>high</th>\n",
              "      <th>low</th>\n",
              "      <th>volume</th>\n",
              "      <th>cripto_activo</th>\n",
              "    </tr>\n",
              "  </thead>\n",
              "  <tbody>\n",
              "    <tr>\n",
              "      <th>2018-01-01 00:00:00</th>\n",
              "      <td>NaN</td>\n",
              "      <td>NaN</td>\n",
              "      <td>NaN</td>\n",
              "      <td>NaN</td>\n",
              "      <td>NaN</td>\n",
              "      <td>AAVEUSDT</td>\n",
              "    </tr>\n",
              "    <tr>\n",
              "      <th>2018-01-01 01:00:00</th>\n",
              "      <td>NaN</td>\n",
              "      <td>NaN</td>\n",
              "      <td>NaN</td>\n",
              "      <td>NaN</td>\n",
              "      <td>NaN</td>\n",
              "      <td>AAVEUSDT</td>\n",
              "    </tr>\n",
              "    <tr>\n",
              "      <th>2018-01-01 02:00:00</th>\n",
              "      <td>NaN</td>\n",
              "      <td>NaN</td>\n",
              "      <td>NaN</td>\n",
              "      <td>NaN</td>\n",
              "      <td>NaN</td>\n",
              "      <td>AAVEUSDT</td>\n",
              "    </tr>\n",
              "    <tr>\n",
              "      <th>2018-01-01 03:00:00</th>\n",
              "      <td>NaN</td>\n",
              "      <td>NaN</td>\n",
              "      <td>NaN</td>\n",
              "      <td>NaN</td>\n",
              "      <td>NaN</td>\n",
              "      <td>AAVEUSDT</td>\n",
              "    </tr>\n",
              "    <tr>\n",
              "      <th>2018-01-01 04:00:00</th>\n",
              "      <td>NaN</td>\n",
              "      <td>NaN</td>\n",
              "      <td>NaN</td>\n",
              "      <td>NaN</td>\n",
              "      <td>NaN</td>\n",
              "      <td>AAVEUSDT</td>\n",
              "    </tr>\n",
              "    <tr>\n",
              "      <th>...</th>\n",
              "      <td>...</td>\n",
              "      <td>...</td>\n",
              "      <td>...</td>\n",
              "      <td>...</td>\n",
              "      <td>...</td>\n",
              "      <td>...</td>\n",
              "    </tr>\n",
              "    <tr>\n",
              "      <th>2021-05-16 11:00:00</th>\n",
              "      <td>402.23</td>\n",
              "      <td>398.90</td>\n",
              "      <td>404.47</td>\n",
              "      <td>397.26</td>\n",
              "      <td>4005.66944</td>\n",
              "      <td>XMRUSDT</td>\n",
              "    </tr>\n",
              "    <tr>\n",
              "      <th>2021-05-16 12:00:00</th>\n",
              "      <td>399.12</td>\n",
              "      <td>393.94</td>\n",
              "      <td>401.34</td>\n",
              "      <td>393.18</td>\n",
              "      <td>3907.98362</td>\n",
              "      <td>XMRUSDT</td>\n",
              "    </tr>\n",
              "    <tr>\n",
              "      <th>2021-05-16 13:00:00</th>\n",
              "      <td>393.65</td>\n",
              "      <td>398.16</td>\n",
              "      <td>398.64</td>\n",
              "      <td>391.34</td>\n",
              "      <td>3962.75618</td>\n",
              "      <td>XMRUSDT</td>\n",
              "    </tr>\n",
              "    <tr>\n",
              "      <th>2021-05-16 14:00:00</th>\n",
              "      <td>398.03</td>\n",
              "      <td>393.24</td>\n",
              "      <td>399.40</td>\n",
              "      <td>390.54</td>\n",
              "      <td>3418.55213</td>\n",
              "      <td>XMRUSDT</td>\n",
              "    </tr>\n",
              "    <tr>\n",
              "      <th>2021-05-16 15:00:00</th>\n",
              "      <td>393.02</td>\n",
              "      <td>390.40</td>\n",
              "      <td>393.19</td>\n",
              "      <td>385.91</td>\n",
              "      <td>2479.33209</td>\n",
              "      <td>XMRUSDT</td>\n",
              "    </tr>\n",
              "  </tbody>\n",
              "</table>\n",
              "<p>472960 rows × 6 columns</p>\n",
              "</div>"
            ],
            "text/plain": [
              "                       open   close    high     low      volume cripto_activo\n",
              "2018-01-01 00:00:00     NaN     NaN     NaN     NaN         NaN      AAVEUSDT\n",
              "2018-01-01 01:00:00     NaN     NaN     NaN     NaN         NaN      AAVEUSDT\n",
              "2018-01-01 02:00:00     NaN     NaN     NaN     NaN         NaN      AAVEUSDT\n",
              "2018-01-01 03:00:00     NaN     NaN     NaN     NaN         NaN      AAVEUSDT\n",
              "2018-01-01 04:00:00     NaN     NaN     NaN     NaN         NaN      AAVEUSDT\n",
              "...                     ...     ...     ...     ...         ...           ...\n",
              "2021-05-16 11:00:00  402.23  398.90  404.47  397.26  4005.66944       XMRUSDT\n",
              "2021-05-16 12:00:00  399.12  393.94  401.34  393.18  3907.98362       XMRUSDT\n",
              "2021-05-16 13:00:00  393.65  398.16  398.64  391.34  3962.75618       XMRUSDT\n",
              "2021-05-16 14:00:00  398.03  393.24  399.40  390.54  3418.55213       XMRUSDT\n",
              "2021-05-16 15:00:00  393.02  390.40  393.19  385.91  2479.33209       XMRUSDT\n",
              "\n",
              "[472960 rows x 6 columns]"
            ]
          },
          "metadata": {
            "tags": []
          },
          "execution_count": 7
        }
      ]
    },
    {
      "cell_type": "code",
      "metadata": {
        "id": "jUNLsbC59YuX",
        "colab": {
          "base_uri": "https://localhost:8080/",
          "height": 206
        },
        "outputId": "e6540ad3-b620-48f3-b9fa-831ed74cdaa5"
      },
      "source": [
        "df.head()"
      ],
      "execution_count": 8,
      "outputs": [
        {
          "output_type": "execute_result",
          "data": {
            "text/html": [
              "<div>\n",
              "<style scoped>\n",
              "    .dataframe tbody tr th:only-of-type {\n",
              "        vertical-align: middle;\n",
              "    }\n",
              "\n",
              "    .dataframe tbody tr th {\n",
              "        vertical-align: top;\n",
              "    }\n",
              "\n",
              "    .dataframe thead th {\n",
              "        text-align: right;\n",
              "    }\n",
              "</style>\n",
              "<table border=\"1\" class=\"dataframe\">\n",
              "  <thead>\n",
              "    <tr style=\"text-align: right;\">\n",
              "      <th></th>\n",
              "      <th>open</th>\n",
              "      <th>close</th>\n",
              "      <th>high</th>\n",
              "      <th>low</th>\n",
              "      <th>volume</th>\n",
              "      <th>cripto_activo</th>\n",
              "    </tr>\n",
              "  </thead>\n",
              "  <tbody>\n",
              "    <tr>\n",
              "      <th>2018-01-01 00:00:00</th>\n",
              "      <td>NaN</td>\n",
              "      <td>NaN</td>\n",
              "      <td>NaN</td>\n",
              "      <td>NaN</td>\n",
              "      <td>NaN</td>\n",
              "      <td>AAVEUSDT</td>\n",
              "    </tr>\n",
              "    <tr>\n",
              "      <th>2018-01-01 01:00:00</th>\n",
              "      <td>NaN</td>\n",
              "      <td>NaN</td>\n",
              "      <td>NaN</td>\n",
              "      <td>NaN</td>\n",
              "      <td>NaN</td>\n",
              "      <td>AAVEUSDT</td>\n",
              "    </tr>\n",
              "    <tr>\n",
              "      <th>2018-01-01 02:00:00</th>\n",
              "      <td>NaN</td>\n",
              "      <td>NaN</td>\n",
              "      <td>NaN</td>\n",
              "      <td>NaN</td>\n",
              "      <td>NaN</td>\n",
              "      <td>AAVEUSDT</td>\n",
              "    </tr>\n",
              "    <tr>\n",
              "      <th>2018-01-01 03:00:00</th>\n",
              "      <td>NaN</td>\n",
              "      <td>NaN</td>\n",
              "      <td>NaN</td>\n",
              "      <td>NaN</td>\n",
              "      <td>NaN</td>\n",
              "      <td>AAVEUSDT</td>\n",
              "    </tr>\n",
              "    <tr>\n",
              "      <th>2018-01-01 04:00:00</th>\n",
              "      <td>NaN</td>\n",
              "      <td>NaN</td>\n",
              "      <td>NaN</td>\n",
              "      <td>NaN</td>\n",
              "      <td>NaN</td>\n",
              "      <td>AAVEUSDT</td>\n",
              "    </tr>\n",
              "  </tbody>\n",
              "</table>\n",
              "</div>"
            ],
            "text/plain": [
              "                     open  close  high  low  volume cripto_activo\n",
              "2018-01-01 00:00:00   NaN    NaN   NaN  NaN     NaN      AAVEUSDT\n",
              "2018-01-01 01:00:00   NaN    NaN   NaN  NaN     NaN      AAVEUSDT\n",
              "2018-01-01 02:00:00   NaN    NaN   NaN  NaN     NaN      AAVEUSDT\n",
              "2018-01-01 03:00:00   NaN    NaN   NaN  NaN     NaN      AAVEUSDT\n",
              "2018-01-01 04:00:00   NaN    NaN   NaN  NaN     NaN      AAVEUSDT"
            ]
          },
          "metadata": {
            "tags": []
          },
          "execution_count": 8
        }
      ]
    },
    {
      "cell_type": "code",
      "metadata": {
        "id": "85rVn_zE9YuY",
        "colab": {
          "base_uri": "https://localhost:8080/",
          "height": 206
        },
        "outputId": "fb74474b-ebc9-4eca-b5e5-a838a50856ce"
      },
      "source": [
        "df.tail()"
      ],
      "execution_count": 9,
      "outputs": [
        {
          "output_type": "execute_result",
          "data": {
            "text/html": [
              "<div>\n",
              "<style scoped>\n",
              "    .dataframe tbody tr th:only-of-type {\n",
              "        vertical-align: middle;\n",
              "    }\n",
              "\n",
              "    .dataframe tbody tr th {\n",
              "        vertical-align: top;\n",
              "    }\n",
              "\n",
              "    .dataframe thead th {\n",
              "        text-align: right;\n",
              "    }\n",
              "</style>\n",
              "<table border=\"1\" class=\"dataframe\">\n",
              "  <thead>\n",
              "    <tr style=\"text-align: right;\">\n",
              "      <th></th>\n",
              "      <th>open</th>\n",
              "      <th>close</th>\n",
              "      <th>high</th>\n",
              "      <th>low</th>\n",
              "      <th>volume</th>\n",
              "      <th>cripto_activo</th>\n",
              "    </tr>\n",
              "  </thead>\n",
              "  <tbody>\n",
              "    <tr>\n",
              "      <th>2021-05-16 11:00:00</th>\n",
              "      <td>402.23</td>\n",
              "      <td>398.90</td>\n",
              "      <td>404.47</td>\n",
              "      <td>397.26</td>\n",
              "      <td>4005.66944</td>\n",
              "      <td>XMRUSDT</td>\n",
              "    </tr>\n",
              "    <tr>\n",
              "      <th>2021-05-16 12:00:00</th>\n",
              "      <td>399.12</td>\n",
              "      <td>393.94</td>\n",
              "      <td>401.34</td>\n",
              "      <td>393.18</td>\n",
              "      <td>3907.98362</td>\n",
              "      <td>XMRUSDT</td>\n",
              "    </tr>\n",
              "    <tr>\n",
              "      <th>2021-05-16 13:00:00</th>\n",
              "      <td>393.65</td>\n",
              "      <td>398.16</td>\n",
              "      <td>398.64</td>\n",
              "      <td>391.34</td>\n",
              "      <td>3962.75618</td>\n",
              "      <td>XMRUSDT</td>\n",
              "    </tr>\n",
              "    <tr>\n",
              "      <th>2021-05-16 14:00:00</th>\n",
              "      <td>398.03</td>\n",
              "      <td>393.24</td>\n",
              "      <td>399.40</td>\n",
              "      <td>390.54</td>\n",
              "      <td>3418.55213</td>\n",
              "      <td>XMRUSDT</td>\n",
              "    </tr>\n",
              "    <tr>\n",
              "      <th>2021-05-16 15:00:00</th>\n",
              "      <td>393.02</td>\n",
              "      <td>390.40</td>\n",
              "      <td>393.19</td>\n",
              "      <td>385.91</td>\n",
              "      <td>2479.33209</td>\n",
              "      <td>XMRUSDT</td>\n",
              "    </tr>\n",
              "  </tbody>\n",
              "</table>\n",
              "</div>"
            ],
            "text/plain": [
              "                       open   close    high     low      volume cripto_activo\n",
              "2021-05-16 11:00:00  402.23  398.90  404.47  397.26  4005.66944       XMRUSDT\n",
              "2021-05-16 12:00:00  399.12  393.94  401.34  393.18  3907.98362       XMRUSDT\n",
              "2021-05-16 13:00:00  393.65  398.16  398.64  391.34  3962.75618       XMRUSDT\n",
              "2021-05-16 14:00:00  398.03  393.24  399.40  390.54  3418.55213       XMRUSDT\n",
              "2021-05-16 15:00:00  393.02  390.40  393.19  385.91  2479.33209       XMRUSDT"
            ]
          },
          "metadata": {
            "tags": []
          },
          "execution_count": 9
        }
      ]
    },
    {
      "cell_type": "code",
      "metadata": {
        "colab": {
          "base_uri": "https://localhost:8080/",
          "height": 596
        },
        "id": "BQbltDoRtWKd",
        "outputId": "112477b5-4e3d-4a63-df32-dc83b45facb9"
      },
      "source": [
        "#Estudiando correlaciones entre variables\n",
        "correlations = df.corr().round(2)\n",
        "\n",
        "#Using Pearson Correlation\n",
        "plt.figure(figsize=(10,10))\n",
        "\n",
        "seaborn.heatmap(correlations, annot=True, cmap=plt.cm.Reds)\n",
        "plt.show()"
      ],
      "execution_count": 10,
      "outputs": [
        {
          "output_type": "display_data",
          "data": {
            "image/png": "[encoded data removed]",
            "text/plain": [
              "<Figure size 720x720 with 2 Axes>"
            ]
          },
          "metadata": {
            "tags": [],
            "needs_background": "light"
          }
        }
      ]
    },
    {
      "cell_type": "code",
      "metadata": {
        "id": "moDJxccButt1"
      },
      "source": [
        "# Identificamos las columnas que tienen faltantes de datos y las mangintudes de los faltantes"
      ],
      "execution_count": 11,
      "outputs": []
    },
    {
      "cell_type": "code",
      "metadata": {
        "colab": {
          "base_uri": "https://localhost:8080/"
        },
        "id": "HkNjNPwTuZHe",
        "outputId": "6d1ed75f-99e7-487e-dd64-7a3d9243a6ae"
      },
      "source": [
        "df.isna().sum()"
      ],
      "execution_count": 12,
      "outputs": [
        {
          "output_type": "execute_result",
          "data": {
            "text/plain": [
              "open             149906\n",
              "close            149906\n",
              "high             149906\n",
              "low              149906\n",
              "volume           149906\n",
              "cripto_activo         0\n",
              "dtype: int64"
            ]
          },
          "metadata": {
            "tags": []
          },
          "execution_count": 12
        }
      ]
    },
    {
      "cell_type": "code",
      "metadata": {
        "colab": {
          "base_uri": "https://localhost:8080/"
        },
        "id": "xxVZFctguqt4",
        "outputId": "79a7e639-cd38-4b23-e914-bd11b839ece0"
      },
      "source": [
        "# Obtenemos todas las criptos que haya en 'cripto_activo'\n",
        "df['cripto_activo'].unique()\n"
      ],
      "execution_count": 13,
      "outputs": [
        {
          "output_type": "execute_result",
          "data": {
            "text/plain": [
              "array(['AAVEUSDT', 'ADAUSDT', 'BCHUSDT', 'BNBUSDT', 'BTCUSDT', 'COMPUSDT',\n",
              "       'DASHUSDT', 'DOTUSDT', 'EOSUSDT', 'ETCUSDT', 'ETHUSDT', 'LINKUSDT',\n",
              "       'LTCUSDT', 'MKRUSDT', 'NEOUSDT', 'XMRUSDT'], dtype=object)"
            ]
          },
          "metadata": {
            "tags": []
          },
          "execution_count": 13
        }
      ]
    },
    {
      "cell_type": "markdown",
      "metadata": {
        "id": "GeiMn0J90MEJ"
      },
      "source": [
        "#Chequeando que los índices del DF estén en formato \"time stamp\""
      ]
    },
    {
      "cell_type": "code",
      "metadata": {
        "colab": {
          "base_uri": "https://localhost:8080/"
        },
        "id": "cc9seMJQ0I0A",
        "outputId": "f664f7c4-62ac-4df1-daa7-18e4b0e7a7f8"
      },
      "source": [
        "df.index"
      ],
      "execution_count": 14,
      "outputs": [
        {
          "output_type": "execute_result",
          "data": {
            "text/plain": [
              "DatetimeIndex(['2018-01-01 00:00:00', '2018-01-01 01:00:00',\n",
              "               '2018-01-01 02:00:00', '2018-01-01 03:00:00',\n",
              "               '2018-01-01 04:00:00', '2018-01-01 05:00:00',\n",
              "               '2018-01-01 06:00:00', '2018-01-01 07:00:00',\n",
              "               '2018-01-01 08:00:00', '2018-01-01 09:00:00',\n",
              "               ...\n",
              "               '2021-05-16 06:00:00', '2021-05-16 07:00:00',\n",
              "               '2021-05-16 08:00:00', '2021-05-16 09:00:00',\n",
              "               '2021-05-16 10:00:00', '2021-05-16 11:00:00',\n",
              "               '2021-05-16 12:00:00', '2021-05-16 13:00:00',\n",
              "               '2021-05-16 14:00:00', '2021-05-16 15:00:00'],\n",
              "              dtype='datetime64[ns]', length=472960, freq=None)"
            ]
          },
          "metadata": {
            "tags": []
          },
          "execution_count": 14
        }
      ]
    },
    {
      "cell_type": "code",
      "metadata": {
        "colab": {
          "base_uri": "https://localhost:8080/"
        },
        "id": "RlS6-vPUziSz",
        "outputId": "d4a6efb7-fbca-4ecc-c2d6-066ba3c37038"
      },
      "source": [
        "#coinvirtiendo a formato Date Time\n",
        "df.index = pd.to_datetime(df.index)\n",
        "\n",
        "df.index"
      ],
      "execution_count": 15,
      "outputs": [
        {
          "output_type": "execute_result",
          "data": {
            "text/plain": [
              "DatetimeIndex(['2018-01-01 00:00:00', '2018-01-01 01:00:00',\n",
              "               '2018-01-01 02:00:00', '2018-01-01 03:00:00',\n",
              "               '2018-01-01 04:00:00', '2018-01-01 05:00:00',\n",
              "               '2018-01-01 06:00:00', '2018-01-01 07:00:00',\n",
              "               '2018-01-01 08:00:00', '2018-01-01 09:00:00',\n",
              "               ...\n",
              "               '2021-05-16 06:00:00', '2021-05-16 07:00:00',\n",
              "               '2021-05-16 08:00:00', '2021-05-16 09:00:00',\n",
              "               '2021-05-16 10:00:00', '2021-05-16 11:00:00',\n",
              "               '2021-05-16 12:00:00', '2021-05-16 13:00:00',\n",
              "               '2021-05-16 14:00:00', '2021-05-16 15:00:00'],\n",
              "              dtype='datetime64[ns]', length=472960, freq=None)"
            ]
          },
          "metadata": {
            "tags": []
          },
          "execution_count": 15
        }
      ]
    },
    {
      "cell_type": "code",
      "metadata": {
        "colab": {
          "base_uri": "https://localhost:8080/",
          "height": 261
        },
        "id": "MfVyXxsw0wQe",
        "outputId": "b798fe26-c137-4c99-86eb-70d0b54ba7aa"
      },
      "source": [
        "# Add columns with year, month, and weekday name\n",
        "#no se si es útil xq se puede filtrar por índice pero capaz...\n",
        "df['Year'] = df.index.year\n",
        "df['Month'] = df.index.month\n",
        "df['Week'] = df.index.week\n",
        "\n",
        "# Display a random sampling of 5 rows\n",
        "df.sample(5, random_state=0)"
      ],
      "execution_count": 16,
      "outputs": [
        {
          "output_type": "stream",
          "text": [
            "/usr/local/lib/python3.7/dist-packages/ipykernel_launcher.py:5: FutureWarning: weekofyear and week have been deprecated, please use DatetimeIndex.isocalendar().week instead, which returns a Series.  To exactly reproduce the behavior of week and weekofyear and return an Index, you may call pd.Int64Index(idx.isocalendar().week)\n",
            "  \"\"\"\n"
          ],
          "name": "stderr"
        },
        {
          "output_type": "execute_result",
          "data": {
            "text/html": [
              "<div>\n",
              "<style scoped>\n",
              "    .dataframe tbody tr th:only-of-type {\n",
              "        vertical-align: middle;\n",
              "    }\n",
              "\n",
              "    .dataframe tbody tr th {\n",
              "        vertical-align: top;\n",
              "    }\n",
              "\n",
              "    .dataframe thead th {\n",
              "        text-align: right;\n",
              "    }\n",
              "</style>\n",
              "<table border=\"1\" class=\"dataframe\">\n",
              "  <thead>\n",
              "    <tr style=\"text-align: right;\">\n",
              "      <th></th>\n",
              "      <th>open</th>\n",
              "      <th>close</th>\n",
              "      <th>high</th>\n",
              "      <th>low</th>\n",
              "      <th>volume</th>\n",
              "      <th>cripto_activo</th>\n",
              "      <th>Year</th>\n",
              "      <th>Month</th>\n",
              "      <th>Week</th>\n",
              "    </tr>\n",
              "  </thead>\n",
              "  <tbody>\n",
              "    <tr>\n",
              "      <th>2019-12-13 11:00:00</th>\n",
              "      <td>50.3800</td>\n",
              "      <td>50.4200</td>\n",
              "      <td>50.4400</td>\n",
              "      <td>50.2400</td>\n",
              "      <td>385.332510</td>\n",
              "      <td>DASHUSDT</td>\n",
              "      <td>2019</td>\n",
              "      <td>12</td>\n",
              "      <td>50</td>\n",
              "    </tr>\n",
              "    <tr>\n",
              "      <th>2020-11-10 23:00:00</th>\n",
              "      <td>67.8150</td>\n",
              "      <td>66.9880</td>\n",
              "      <td>68.1640</td>\n",
              "      <td>66.2410</td>\n",
              "      <td>19967.606000</td>\n",
              "      <td>AAVEUSDT</td>\n",
              "      <td>2020</td>\n",
              "      <td>11</td>\n",
              "      <td>46</td>\n",
              "    </tr>\n",
              "    <tr>\n",
              "      <th>2019-02-22 12:00:00</th>\n",
              "      <td>4.5152</td>\n",
              "      <td>4.5168</td>\n",
              "      <td>4.5395</td>\n",
              "      <td>4.5096</td>\n",
              "      <td>20258.260000</td>\n",
              "      <td>ETCUSDT</td>\n",
              "      <td>2019</td>\n",
              "      <td>2</td>\n",
              "      <td>8</td>\n",
              "    </tr>\n",
              "    <tr>\n",
              "      <th>2018-10-27 07:00:00</th>\n",
              "      <td>16.3960</td>\n",
              "      <td>16.3740</td>\n",
              "      <td>16.4270</td>\n",
              "      <td>16.3740</td>\n",
              "      <td>7156.416000</td>\n",
              "      <td>NEOUSDT</td>\n",
              "      <td>2018</td>\n",
              "      <td>10</td>\n",
              "      <td>43</td>\n",
              "    </tr>\n",
              "    <tr>\n",
              "      <th>2018-03-02 18:00:00</th>\n",
              "      <td>10913.8600</td>\n",
              "      <td>10909.9900</td>\n",
              "      <td>10950.0000</td>\n",
              "      <td>10853.0300</td>\n",
              "      <td>664.766949</td>\n",
              "      <td>BTCUSDT</td>\n",
              "      <td>2018</td>\n",
              "      <td>3</td>\n",
              "      <td>9</td>\n",
              "    </tr>\n",
              "  </tbody>\n",
              "</table>\n",
              "</div>"
            ],
            "text/plain": [
              "                           open       close        high  ...  Year  Month Week\n",
              "2019-12-13 11:00:00     50.3800     50.4200     50.4400  ...  2019     12   50\n",
              "2020-11-10 23:00:00     67.8150     66.9880     68.1640  ...  2020     11   46\n",
              "2019-02-22 12:00:00      4.5152      4.5168      4.5395  ...  2019      2    8\n",
              "2018-10-27 07:00:00     16.3960     16.3740     16.4270  ...  2018     10   43\n",
              "2018-03-02 18:00:00  10913.8600  10909.9900  10950.0000  ...  2018      3    9\n",
              "\n",
              "[5 rows x 9 columns]"
            ]
          },
          "metadata": {
            "tags": []
          },
          "execution_count": 16
        }
      ]
    },
    {
      "cell_type": "code",
      "metadata": {
        "id": "sIDZqhvk1Zjl",
        "colab": {
          "base_uri": "https://localhost:8080/",
          "height": 424
        },
        "outputId": "502b322a-d834-4417-bdcb-5a69d81bac58"
      },
      "source": [
        "#consultando un día en particular\n",
        "df.loc['2019-08-10']"
      ],
      "execution_count": 17,
      "outputs": [
        {
          "output_type": "execute_result",
          "data": {
            "text/html": [
              "<div>\n",
              "<style scoped>\n",
              "    .dataframe tbody tr th:only-of-type {\n",
              "        vertical-align: middle;\n",
              "    }\n",
              "\n",
              "    .dataframe tbody tr th {\n",
              "        vertical-align: top;\n",
              "    }\n",
              "\n",
              "    .dataframe thead th {\n",
              "        text-align: right;\n",
              "    }\n",
              "</style>\n",
              "<table border=\"1\" class=\"dataframe\">\n",
              "  <thead>\n",
              "    <tr style=\"text-align: right;\">\n",
              "      <th></th>\n",
              "      <th>open</th>\n",
              "      <th>close</th>\n",
              "      <th>high</th>\n",
              "      <th>low</th>\n",
              "      <th>volume</th>\n",
              "      <th>cripto_activo</th>\n",
              "      <th>Year</th>\n",
              "      <th>Month</th>\n",
              "      <th>Week</th>\n",
              "    </tr>\n",
              "  </thead>\n",
              "  <tbody>\n",
              "    <tr>\n",
              "      <th>2019-08-10 00:00:00</th>\n",
              "      <td>NaN</td>\n",
              "      <td>NaN</td>\n",
              "      <td>NaN</td>\n",
              "      <td>NaN</td>\n",
              "      <td>NaN</td>\n",
              "      <td>AAVEUSDT</td>\n",
              "      <td>2019</td>\n",
              "      <td>8</td>\n",
              "      <td>32</td>\n",
              "    </tr>\n",
              "    <tr>\n",
              "      <th>2019-08-10 01:00:00</th>\n",
              "      <td>NaN</td>\n",
              "      <td>NaN</td>\n",
              "      <td>NaN</td>\n",
              "      <td>NaN</td>\n",
              "      <td>NaN</td>\n",
              "      <td>AAVEUSDT</td>\n",
              "      <td>2019</td>\n",
              "      <td>8</td>\n",
              "      <td>32</td>\n",
              "    </tr>\n",
              "    <tr>\n",
              "      <th>2019-08-10 02:00:00</th>\n",
              "      <td>NaN</td>\n",
              "      <td>NaN</td>\n",
              "      <td>NaN</td>\n",
              "      <td>NaN</td>\n",
              "      <td>NaN</td>\n",
              "      <td>AAVEUSDT</td>\n",
              "      <td>2019</td>\n",
              "      <td>8</td>\n",
              "      <td>32</td>\n",
              "    </tr>\n",
              "    <tr>\n",
              "      <th>2019-08-10 03:00:00</th>\n",
              "      <td>NaN</td>\n",
              "      <td>NaN</td>\n",
              "      <td>NaN</td>\n",
              "      <td>NaN</td>\n",
              "      <td>NaN</td>\n",
              "      <td>AAVEUSDT</td>\n",
              "      <td>2019</td>\n",
              "      <td>8</td>\n",
              "      <td>32</td>\n",
              "    </tr>\n",
              "    <tr>\n",
              "      <th>2019-08-10 04:00:00</th>\n",
              "      <td>NaN</td>\n",
              "      <td>NaN</td>\n",
              "      <td>NaN</td>\n",
              "      <td>NaN</td>\n",
              "      <td>NaN</td>\n",
              "      <td>AAVEUSDT</td>\n",
              "      <td>2019</td>\n",
              "      <td>8</td>\n",
              "      <td>32</td>\n",
              "    </tr>\n",
              "    <tr>\n",
              "      <th>...</th>\n",
              "      <td>...</td>\n",
              "      <td>...</td>\n",
              "      <td>...</td>\n",
              "      <td>...</td>\n",
              "      <td>...</td>\n",
              "      <td>...</td>\n",
              "      <td>...</td>\n",
              "      <td>...</td>\n",
              "      <td>...</td>\n",
              "    </tr>\n",
              "    <tr>\n",
              "      <th>2019-08-10 19:00:00</th>\n",
              "      <td>91.12</td>\n",
              "      <td>91.00</td>\n",
              "      <td>91.28</td>\n",
              "      <td>90.25</td>\n",
              "      <td>80.64569</td>\n",
              "      <td>XMRUSDT</td>\n",
              "      <td>2019</td>\n",
              "      <td>8</td>\n",
              "      <td>32</td>\n",
              "    </tr>\n",
              "    <tr>\n",
              "      <th>2019-08-10 20:00:00</th>\n",
              "      <td>91.00</td>\n",
              "      <td>91.15</td>\n",
              "      <td>91.38</td>\n",
              "      <td>90.99</td>\n",
              "      <td>165.13874</td>\n",
              "      <td>XMRUSDT</td>\n",
              "      <td>2019</td>\n",
              "      <td>8</td>\n",
              "      <td>32</td>\n",
              "    </tr>\n",
              "    <tr>\n",
              "      <th>2019-08-10 21:00:00</th>\n",
              "      <td>91.26</td>\n",
              "      <td>90.91</td>\n",
              "      <td>91.39</td>\n",
              "      <td>90.49</td>\n",
              "      <td>118.32006</td>\n",
              "      <td>XMRUSDT</td>\n",
              "      <td>2019</td>\n",
              "      <td>8</td>\n",
              "      <td>32</td>\n",
              "    </tr>\n",
              "    <tr>\n",
              "      <th>2019-08-10 22:00:00</th>\n",
              "      <td>90.91</td>\n",
              "      <td>90.92</td>\n",
              "      <td>91.28</td>\n",
              "      <td>90.44</td>\n",
              "      <td>210.61285</td>\n",
              "      <td>XMRUSDT</td>\n",
              "      <td>2019</td>\n",
              "      <td>8</td>\n",
              "      <td>32</td>\n",
              "    </tr>\n",
              "    <tr>\n",
              "      <th>2019-08-10 23:00:00</th>\n",
              "      <td>90.82</td>\n",
              "      <td>90.78</td>\n",
              "      <td>91.07</td>\n",
              "      <td>90.57</td>\n",
              "      <td>15.15642</td>\n",
              "      <td>XMRUSDT</td>\n",
              "      <td>2019</td>\n",
              "      <td>8</td>\n",
              "      <td>32</td>\n",
              "    </tr>\n",
              "  </tbody>\n",
              "</table>\n",
              "<p>384 rows × 9 columns</p>\n",
              "</div>"
            ],
            "text/plain": [
              "                      open  close   high  ...  Year  Month Week\n",
              "2019-08-10 00:00:00    NaN    NaN    NaN  ...  2019      8   32\n",
              "2019-08-10 01:00:00    NaN    NaN    NaN  ...  2019      8   32\n",
              "2019-08-10 02:00:00    NaN    NaN    NaN  ...  2019      8   32\n",
              "2019-08-10 03:00:00    NaN    NaN    NaN  ...  2019      8   32\n",
              "2019-08-10 04:00:00    NaN    NaN    NaN  ...  2019      8   32\n",
              "...                    ...    ...    ...  ...   ...    ...  ...\n",
              "2019-08-10 19:00:00  91.12  91.00  91.28  ...  2019      8   32\n",
              "2019-08-10 20:00:00  91.00  91.15  91.38  ...  2019      8   32\n",
              "2019-08-10 21:00:00  91.26  90.91  91.39  ...  2019      8   32\n",
              "2019-08-10 22:00:00  90.91  90.92  91.28  ...  2019      8   32\n",
              "2019-08-10 23:00:00  90.82  90.78  91.07  ...  2019      8   32\n",
              "\n",
              "[384 rows x 9 columns]"
            ]
          },
          "metadata": {
            "tags": []
          },
          "execution_count": 17
        }
      ]
    },
    {
      "cell_type": "code",
      "metadata": {
        "colab": {
          "base_uri": "https://localhost:8080/",
          "height": 424
        },
        "id": "eyP72ZPT3kE5",
        "outputId": "76fc33f5-117b-4d07-c4de-fa6cb9860acd"
      },
      "source": [
        "#consultando un mes en particular\n",
        "df.loc['2019-08']"
      ],
      "execution_count": 18,
      "outputs": [
        {
          "output_type": "execute_result",
          "data": {
            "text/html": [
              "<div>\n",
              "<style scoped>\n",
              "    .dataframe tbody tr th:only-of-type {\n",
              "        vertical-align: middle;\n",
              "    }\n",
              "\n",
              "    .dataframe tbody tr th {\n",
              "        vertical-align: top;\n",
              "    }\n",
              "\n",
              "    .dataframe thead th {\n",
              "        text-align: right;\n",
              "    }\n",
              "</style>\n",
              "<table border=\"1\" class=\"dataframe\">\n",
              "  <thead>\n",
              "    <tr style=\"text-align: right;\">\n",
              "      <th></th>\n",
              "      <th>open</th>\n",
              "      <th>close</th>\n",
              "      <th>high</th>\n",
              "      <th>low</th>\n",
              "      <th>volume</th>\n",
              "      <th>cripto_activo</th>\n",
              "      <th>Year</th>\n",
              "      <th>Month</th>\n",
              "      <th>Week</th>\n",
              "    </tr>\n",
              "  </thead>\n",
              "  <tbody>\n",
              "    <tr>\n",
              "      <th>2019-08-01 00:00:00</th>\n",
              "      <td>NaN</td>\n",
              "      <td>NaN</td>\n",
              "      <td>NaN</td>\n",
              "      <td>NaN</td>\n",
              "      <td>NaN</td>\n",
              "      <td>AAVEUSDT</td>\n",
              "      <td>2019</td>\n",
              "      <td>8</td>\n",
              "      <td>31</td>\n",
              "    </tr>\n",
              "    <tr>\n",
              "      <th>2019-08-01 01:00:00</th>\n",
              "      <td>NaN</td>\n",
              "      <td>NaN</td>\n",
              "      <td>NaN</td>\n",
              "      <td>NaN</td>\n",
              "      <td>NaN</td>\n",
              "      <td>AAVEUSDT</td>\n",
              "      <td>2019</td>\n",
              "      <td>8</td>\n",
              "      <td>31</td>\n",
              "    </tr>\n",
              "    <tr>\n",
              "      <th>2019-08-01 02:00:00</th>\n",
              "      <td>NaN</td>\n",
              "      <td>NaN</td>\n",
              "      <td>NaN</td>\n",
              "      <td>NaN</td>\n",
              "      <td>NaN</td>\n",
              "      <td>AAVEUSDT</td>\n",
              "      <td>2019</td>\n",
              "      <td>8</td>\n",
              "      <td>31</td>\n",
              "    </tr>\n",
              "    <tr>\n",
              "      <th>2019-08-01 03:00:00</th>\n",
              "      <td>NaN</td>\n",
              "      <td>NaN</td>\n",
              "      <td>NaN</td>\n",
              "      <td>NaN</td>\n",
              "      <td>NaN</td>\n",
              "      <td>AAVEUSDT</td>\n",
              "      <td>2019</td>\n",
              "      <td>8</td>\n",
              "      <td>31</td>\n",
              "    </tr>\n",
              "    <tr>\n",
              "      <th>2019-08-01 04:00:00</th>\n",
              "      <td>NaN</td>\n",
              "      <td>NaN</td>\n",
              "      <td>NaN</td>\n",
              "      <td>NaN</td>\n",
              "      <td>NaN</td>\n",
              "      <td>AAVEUSDT</td>\n",
              "      <td>2019</td>\n",
              "      <td>8</td>\n",
              "      <td>31</td>\n",
              "    </tr>\n",
              "    <tr>\n",
              "      <th>...</th>\n",
              "      <td>...</td>\n",
              "      <td>...</td>\n",
              "      <td>...</td>\n",
              "      <td>...</td>\n",
              "      <td>...</td>\n",
              "      <td>...</td>\n",
              "      <td>...</td>\n",
              "      <td>...</td>\n",
              "      <td>...</td>\n",
              "    </tr>\n",
              "    <tr>\n",
              "      <th>2019-08-31 19:00:00</th>\n",
              "      <td>67.06</td>\n",
              "      <td>66.93</td>\n",
              "      <td>67.17</td>\n",
              "      <td>66.89</td>\n",
              "      <td>26.09940</td>\n",
              "      <td>XMRUSDT</td>\n",
              "      <td>2019</td>\n",
              "      <td>8</td>\n",
              "      <td>35</td>\n",
              "    </tr>\n",
              "    <tr>\n",
              "      <th>2019-08-31 20:00:00</th>\n",
              "      <td>67.04</td>\n",
              "      <td>66.29</td>\n",
              "      <td>67.04</td>\n",
              "      <td>66.07</td>\n",
              "      <td>394.82248</td>\n",
              "      <td>XMRUSDT</td>\n",
              "      <td>2019</td>\n",
              "      <td>8</td>\n",
              "      <td>35</td>\n",
              "    </tr>\n",
              "    <tr>\n",
              "      <th>2019-08-31 21:00:00</th>\n",
              "      <td>66.29</td>\n",
              "      <td>67.68</td>\n",
              "      <td>67.68</td>\n",
              "      <td>66.14</td>\n",
              "      <td>791.79016</td>\n",
              "      <td>XMRUSDT</td>\n",
              "      <td>2019</td>\n",
              "      <td>8</td>\n",
              "      <td>35</td>\n",
              "    </tr>\n",
              "    <tr>\n",
              "      <th>2019-08-31 22:00:00</th>\n",
              "      <td>67.74</td>\n",
              "      <td>67.48</td>\n",
              "      <td>67.92</td>\n",
              "      <td>67.35</td>\n",
              "      <td>108.14482</td>\n",
              "      <td>XMRUSDT</td>\n",
              "      <td>2019</td>\n",
              "      <td>8</td>\n",
              "      <td>35</td>\n",
              "    </tr>\n",
              "    <tr>\n",
              "      <th>2019-08-31 23:00:00</th>\n",
              "      <td>67.36</td>\n",
              "      <td>67.34</td>\n",
              "      <td>67.45</td>\n",
              "      <td>67.16</td>\n",
              "      <td>41.34893</td>\n",
              "      <td>XMRUSDT</td>\n",
              "      <td>2019</td>\n",
              "      <td>8</td>\n",
              "      <td>35</td>\n",
              "    </tr>\n",
              "  </tbody>\n",
              "</table>\n",
              "<p>11904 rows × 9 columns</p>\n",
              "</div>"
            ],
            "text/plain": [
              "                      open  close   high  ...  Year  Month Week\n",
              "2019-08-01 00:00:00    NaN    NaN    NaN  ...  2019      8   31\n",
              "2019-08-01 01:00:00    NaN    NaN    NaN  ...  2019      8   31\n",
              "2019-08-01 02:00:00    NaN    NaN    NaN  ...  2019      8   31\n",
              "2019-08-01 03:00:00    NaN    NaN    NaN  ...  2019      8   31\n",
              "2019-08-01 04:00:00    NaN    NaN    NaN  ...  2019      8   31\n",
              "...                    ...    ...    ...  ...   ...    ...  ...\n",
              "2019-08-31 19:00:00  67.06  66.93  67.17  ...  2019      8   35\n",
              "2019-08-31 20:00:00  67.04  66.29  67.04  ...  2019      8   35\n",
              "2019-08-31 21:00:00  66.29  67.68  67.68  ...  2019      8   35\n",
              "2019-08-31 22:00:00  67.74  67.48  67.92  ...  2019      8   35\n",
              "2019-08-31 23:00:00  67.36  67.34  67.45  ...  2019      8   35\n",
              "\n",
              "[11904 rows x 9 columns]"
            ]
          },
          "metadata": {
            "tags": []
          },
          "execution_count": 18
        }
      ]
    },
    {
      "cell_type": "code",
      "metadata": {
        "colab": {
          "base_uri": "https://localhost:8080/",
          "height": 424
        },
        "id": "6Fefrhjq3nEH",
        "outputId": "78ce0e1c-92ec-4867-92d2-cf9611f64317"
      },
      "source": [
        "#consultando un año en particular\n",
        "df.loc['2020']"
      ],
      "execution_count": 19,
      "outputs": [
        {
          "output_type": "execute_result",
          "data": {
            "text/html": [
              "<div>\n",
              "<style scoped>\n",
              "    .dataframe tbody tr th:only-of-type {\n",
              "        vertical-align: middle;\n",
              "    }\n",
              "\n",
              "    .dataframe tbody tr th {\n",
              "        vertical-align: top;\n",
              "    }\n",
              "\n",
              "    .dataframe thead th {\n",
              "        text-align: right;\n",
              "    }\n",
              "</style>\n",
              "<table border=\"1\" class=\"dataframe\">\n",
              "  <thead>\n",
              "    <tr style=\"text-align: right;\">\n",
              "      <th></th>\n",
              "      <th>open</th>\n",
              "      <th>close</th>\n",
              "      <th>high</th>\n",
              "      <th>low</th>\n",
              "      <th>volume</th>\n",
              "      <th>cripto_activo</th>\n",
              "      <th>Year</th>\n",
              "      <th>Month</th>\n",
              "      <th>Week</th>\n",
              "    </tr>\n",
              "  </thead>\n",
              "  <tbody>\n",
              "    <tr>\n",
              "      <th>2020-01-01 00:00:00</th>\n",
              "      <td>NaN</td>\n",
              "      <td>NaN</td>\n",
              "      <td>NaN</td>\n",
              "      <td>NaN</td>\n",
              "      <td>NaN</td>\n",
              "      <td>AAVEUSDT</td>\n",
              "      <td>2020</td>\n",
              "      <td>1</td>\n",
              "      <td>1</td>\n",
              "    </tr>\n",
              "    <tr>\n",
              "      <th>2020-01-01 01:00:00</th>\n",
              "      <td>NaN</td>\n",
              "      <td>NaN</td>\n",
              "      <td>NaN</td>\n",
              "      <td>NaN</td>\n",
              "      <td>NaN</td>\n",
              "      <td>AAVEUSDT</td>\n",
              "      <td>2020</td>\n",
              "      <td>1</td>\n",
              "      <td>1</td>\n",
              "    </tr>\n",
              "    <tr>\n",
              "      <th>2020-01-01 02:00:00</th>\n",
              "      <td>NaN</td>\n",
              "      <td>NaN</td>\n",
              "      <td>NaN</td>\n",
              "      <td>NaN</td>\n",
              "      <td>NaN</td>\n",
              "      <td>AAVEUSDT</td>\n",
              "      <td>2020</td>\n",
              "      <td>1</td>\n",
              "      <td>1</td>\n",
              "    </tr>\n",
              "    <tr>\n",
              "      <th>2020-01-01 03:00:00</th>\n",
              "      <td>NaN</td>\n",
              "      <td>NaN</td>\n",
              "      <td>NaN</td>\n",
              "      <td>NaN</td>\n",
              "      <td>NaN</td>\n",
              "      <td>AAVEUSDT</td>\n",
              "      <td>2020</td>\n",
              "      <td>1</td>\n",
              "      <td>1</td>\n",
              "    </tr>\n",
              "    <tr>\n",
              "      <th>2020-01-01 04:00:00</th>\n",
              "      <td>NaN</td>\n",
              "      <td>NaN</td>\n",
              "      <td>NaN</td>\n",
              "      <td>NaN</td>\n",
              "      <td>NaN</td>\n",
              "      <td>AAVEUSDT</td>\n",
              "      <td>2020</td>\n",
              "      <td>1</td>\n",
              "      <td>1</td>\n",
              "    </tr>\n",
              "    <tr>\n",
              "      <th>...</th>\n",
              "      <td>...</td>\n",
              "      <td>...</td>\n",
              "      <td>...</td>\n",
              "      <td>...</td>\n",
              "      <td>...</td>\n",
              "      <td>...</td>\n",
              "      <td>...</td>\n",
              "      <td>...</td>\n",
              "      <td>...</td>\n",
              "    </tr>\n",
              "    <tr>\n",
              "      <th>2020-12-31 19:00:00</th>\n",
              "      <td>156.03</td>\n",
              "      <td>157.52</td>\n",
              "      <td>157.81</td>\n",
              "      <td>155.88</td>\n",
              "      <td>4681.88015</td>\n",
              "      <td>XMRUSDT</td>\n",
              "      <td>2020</td>\n",
              "      <td>12</td>\n",
              "      <td>53</td>\n",
              "    </tr>\n",
              "    <tr>\n",
              "      <th>2020-12-31 20:00:00</th>\n",
              "      <td>157.51</td>\n",
              "      <td>157.34</td>\n",
              "      <td>157.97</td>\n",
              "      <td>156.85</td>\n",
              "      <td>2276.82350</td>\n",
              "      <td>XMRUSDT</td>\n",
              "      <td>2020</td>\n",
              "      <td>12</td>\n",
              "      <td>53</td>\n",
              "    </tr>\n",
              "    <tr>\n",
              "      <th>2020-12-31 21:00:00</th>\n",
              "      <td>157.34</td>\n",
              "      <td>157.01</td>\n",
              "      <td>158.40</td>\n",
              "      <td>156.62</td>\n",
              "      <td>6381.06487</td>\n",
              "      <td>XMRUSDT</td>\n",
              "      <td>2020</td>\n",
              "      <td>12</td>\n",
              "      <td>53</td>\n",
              "    </tr>\n",
              "    <tr>\n",
              "      <th>2020-12-31 22:00:00</th>\n",
              "      <td>156.92</td>\n",
              "      <td>156.16</td>\n",
              "      <td>157.06</td>\n",
              "      <td>155.45</td>\n",
              "      <td>2330.94339</td>\n",
              "      <td>XMRUSDT</td>\n",
              "      <td>2020</td>\n",
              "      <td>12</td>\n",
              "      <td>53</td>\n",
              "    </tr>\n",
              "    <tr>\n",
              "      <th>2020-12-31 23:00:00</th>\n",
              "      <td>155.98</td>\n",
              "      <td>156.22</td>\n",
              "      <td>157.19</td>\n",
              "      <td>155.36</td>\n",
              "      <td>1401.11131</td>\n",
              "      <td>XMRUSDT</td>\n",
              "      <td>2020</td>\n",
              "      <td>12</td>\n",
              "      <td>53</td>\n",
              "    </tr>\n",
              "  </tbody>\n",
              "</table>\n",
              "<p>140544 rows × 9 columns</p>\n",
              "</div>"
            ],
            "text/plain": [
              "                       open   close    high  ...  Year  Month Week\n",
              "2020-01-01 00:00:00     NaN     NaN     NaN  ...  2020      1    1\n",
              "2020-01-01 01:00:00     NaN     NaN     NaN  ...  2020      1    1\n",
              "2020-01-01 02:00:00     NaN     NaN     NaN  ...  2020      1    1\n",
              "2020-01-01 03:00:00     NaN     NaN     NaN  ...  2020      1    1\n",
              "2020-01-01 04:00:00     NaN     NaN     NaN  ...  2020      1    1\n",
              "...                     ...     ...     ...  ...   ...    ...  ...\n",
              "2020-12-31 19:00:00  156.03  157.52  157.81  ...  2020     12   53\n",
              "2020-12-31 20:00:00  157.51  157.34  157.97  ...  2020     12   53\n",
              "2020-12-31 21:00:00  157.34  157.01  158.40  ...  2020     12   53\n",
              "2020-12-31 22:00:00  156.92  156.16  157.06  ...  2020     12   53\n",
              "2020-12-31 23:00:00  155.98  156.22  157.19  ...  2020     12   53\n",
              "\n",
              "[140544 rows x 9 columns]"
            ]
          },
          "metadata": {
            "tags": []
          },
          "execution_count": 19
        }
      ]
    },
    {
      "cell_type": "code",
      "metadata": {
        "colab": {
          "base_uri": "https://localhost:8080/",
          "height": 332
        },
        "id": "kH7V1Au61rhs",
        "outputId": "b47397fa-77df-4345-9235-9cbd448bb812"
      },
      "source": [
        "#Media general para el volumen\n",
        "df_means =df.groupby(['cripto_activo']).agg({'volume': ['mean']})#.reset_index()\n",
        "#dejamos solo 2 decimales\n",
        "df_means.describe().round(2)"
      ],
      "execution_count": 20,
      "outputs": [
        {
          "output_type": "execute_result",
          "data": {
            "text/html": [
              "<div>\n",
              "<style scoped>\n",
              "    .dataframe tbody tr th:only-of-type {\n",
              "        vertical-align: middle;\n",
              "    }\n",
              "\n",
              "    .dataframe tbody tr th {\n",
              "        vertical-align: top;\n",
              "    }\n",
              "\n",
              "    .dataframe thead tr th {\n",
              "        text-align: left;\n",
              "    }\n",
              "</style>\n",
              "<table border=\"1\" class=\"dataframe\">\n",
              "  <thead>\n",
              "    <tr>\n",
              "      <th></th>\n",
              "      <th>volume</th>\n",
              "    </tr>\n",
              "    <tr>\n",
              "      <th></th>\n",
              "      <th>mean</th>\n",
              "    </tr>\n",
              "  </thead>\n",
              "  <tbody>\n",
              "    <tr>\n",
              "      <th>count</th>\n",
              "      <td>16.00</td>\n",
              "    </tr>\n",
              "    <tr>\n",
              "      <th>mean</th>\n",
              "      <td>878351.02</td>\n",
              "    </tr>\n",
              "    <tr>\n",
              "      <th>std</th>\n",
              "      <td>3025897.74</td>\n",
              "    </tr>\n",
              "    <tr>\n",
              "      <th>min</th>\n",
              "      <td>249.25</td>\n",
              "    </tr>\n",
              "    <tr>\n",
              "      <th>25%</th>\n",
              "      <td>4246.28</td>\n",
              "    </tr>\n",
              "    <tr>\n",
              "      <th>50%</th>\n",
              "      <td>24274.89</td>\n",
              "    </tr>\n",
              "    <tr>\n",
              "      <th>75%</th>\n",
              "      <td>168861.29</td>\n",
              "    </tr>\n",
              "    <tr>\n",
              "      <th>max</th>\n",
              "      <td>12199641.41</td>\n",
              "    </tr>\n",
              "  </tbody>\n",
              "</table>\n",
              "</div>"
            ],
            "text/plain": [
              "            volume\n",
              "              mean\n",
              "count        16.00\n",
              "mean     878351.02\n",
              "std     3025897.74\n",
              "min         249.25\n",
              "25%        4246.28\n",
              "50%       24274.89\n",
              "75%      168861.29\n",
              "max    12199641.41"
            ]
          },
          "metadata": {
            "tags": []
          },
          "execution_count": 20
        }
      ]
    },
    {
      "cell_type": "markdown",
      "metadata": {
        "id": "_QIZubkcEyF3"
      },
      "source": [
        "#Agrupando el df por cripto activos individuales para analizarlos por separado llegado el caso"
      ]
    },
    {
      "cell_type": "code",
      "metadata": {
        "colab": {
          "base_uri": "https://localhost:8080/"
        },
        "id": "huERp2hTEDLR",
        "outputId": "2bcfc730-7561-402d-ff83-508334ece95c"
      },
      "source": [
        "cripto_list = df.groupby('cripto_activo')[['cripto_activo']].count().index.tolist()\n",
        "for i in cripto_list:\n",
        "    grouped_criptos = df.groupby(['cripto_activo'], as_index=True).get_group(i) \n",
        "    print(i,':\\n', grouped_criptos)\n"
      ],
      "execution_count": 21,
      "outputs": [
        {
          "output_type": "stream",
          "text": [
            "AAVEUSDT :\n",
            "                        open   close    high  ...  Year  Month Week\n",
            "2018-01-01 00:00:00     NaN     NaN     NaN  ...  2018      1    1\n",
            "2018-01-01 01:00:00     NaN     NaN     NaN  ...  2018      1    1\n",
            "2018-01-01 02:00:00     NaN     NaN     NaN  ...  2018      1    1\n",
            "2018-01-01 03:00:00     NaN     NaN     NaN  ...  2018      1    1\n",
            "2018-01-01 04:00:00     NaN     NaN     NaN  ...  2018      1    1\n",
            "...                     ...     ...     ...  ...   ...    ...  ...\n",
            "2021-05-16 11:00:00  559.21  547.34  560.56  ...  2021      5   19\n",
            "2021-05-16 12:00:00  547.40  533.37  551.18  ...  2021      5   19\n",
            "2021-05-16 13:00:00  533.12  536.66  537.99  ...  2021      5   19\n",
            "2021-05-16 14:00:00  536.66  523.18  541.04  ...  2021      5   19\n",
            "2021-05-16 15:00:00  523.18  519.16  524.20  ...  2021      5   19\n",
            "\n",
            "[29560 rows x 9 columns]\n",
            "ADAUSDT :\n",
            "                        open   close    high  ...  Year  Month Week\n",
            "2018-01-01 00:00:00     NaN     NaN     NaN  ...  2018      1    1\n",
            "2018-01-01 01:00:00     NaN     NaN     NaN  ...  2018      1    1\n",
            "2018-01-01 02:00:00     NaN     NaN     NaN  ...  2018      1    1\n",
            "2018-01-01 03:00:00     NaN     NaN     NaN  ...  2018      1    1\n",
            "2018-01-01 04:00:00     NaN     NaN     NaN  ...  2018      1    1\n",
            "...                     ...     ...     ...  ...   ...    ...  ...\n",
            "2021-05-16 11:00:00  2.3886  2.3828  2.4216  ...  2021      5   19\n",
            "2021-05-16 12:00:00  2.3829  2.3379  2.3998  ...  2021      5   19\n",
            "2021-05-16 13:00:00  2.3378  2.3406  2.3679  ...  2021      5   19\n",
            "2021-05-16 14:00:00  2.3407  2.3188  2.3511  ...  2021      5   19\n",
            "2021-05-16 15:00:00  2.3186  2.2943  2.3196  ...  2021      5   19\n",
            "\n",
            "[29560 rows x 9 columns]\n",
            "BCHUSDT :\n",
            "                         open    close     high  ...  Year  Month Week\n",
            "2018-01-01 00:00:00      NaN      NaN      NaN  ...  2018      1    1\n",
            "2018-01-01 01:00:00      NaN      NaN      NaN  ...  2018      1    1\n",
            "2018-01-01 02:00:00      NaN      NaN      NaN  ...  2018      1    1\n",
            "2018-01-01 03:00:00      NaN      NaN      NaN  ...  2018      1    1\n",
            "2018-01-01 04:00:00      NaN      NaN      NaN  ...  2018      1    1\n",
            "...                      ...      ...      ...  ...   ...    ...  ...\n",
            "2021-05-16 11:00:00  1265.52  1245.99  1282.00  ...  2021      5   19\n",
            "2021-05-16 12:00:00  1246.67  1226.09  1259.21  ...  2021      5   19\n",
            "2021-05-16 13:00:00  1226.47  1241.35  1242.40  ...  2021      5   19\n",
            "2021-05-16 14:00:00  1241.11  1212.61  1242.86  ...  2021      5   19\n",
            "2021-05-16 15:00:00  1212.65  1211.64  1219.15  ...  2021      5   19\n",
            "\n",
            "[29560 rows x 9 columns]\n",
            "BNBUSDT :\n",
            "                          open     close      high  ...  Year  Month Week\n",
            "2018-01-01 00:00:00    8.5478    8.3559    8.5478  ...  2018      1    1\n",
            "2018-01-01 01:00:00    8.3558    8.2199    8.3997  ...  2018      1    1\n",
            "2018-01-01 02:00:00    8.2200    8.2235    8.3488  ...  2018      1    1\n",
            "2018-01-01 03:00:00    8.2972    8.3401    8.4326  ...  2018      1    1\n",
            "2018-01-01 04:00:00    8.3612    8.5000    8.5000  ...  2018      1    1\n",
            "...                       ...       ...       ...  ...   ...    ...  ...\n",
            "2021-05-16 11:00:00  604.9200  598.8100  606.1800  ...  2021      5   19\n",
            "2021-05-16 12:00:00  598.8100  590.4300  600.6900  ...  2021      5   19\n",
            "2021-05-16 13:00:00  590.4300  592.8700  594.4200  ...  2021      5   19\n",
            "2021-05-16 14:00:00  592.9100  582.3700  594.6700  ...  2021      5   19\n",
            "2021-05-16 15:00:00  582.3700  578.1200  583.2000  ...  2021      5   19\n",
            "\n",
            "[29560 rows x 9 columns]\n",
            "BTCUSDT :\n",
            "                          open     close      high  ...  Year  Month Week\n",
            "2018-01-01 00:00:00  13715.65  13529.01  13715.65  ...  2018      1    1\n",
            "2018-01-01 01:00:00  13528.99  13203.06  13595.89  ...  2018      1    1\n",
            "2018-01-01 02:00:00  13203.00  13330.18  13418.43  ...  2018      1    1\n",
            "2018-01-01 03:00:00  13330.26  13410.03  13611.27  ...  2018      1    1\n",
            "2018-01-01 04:00:00  13434.98  13601.01  13623.29  ...  2018      1    1\n",
            "...                       ...       ...       ...  ...   ...    ...  ...\n",
            "2021-05-16 11:00:00  49574.98  49014.99  49640.28  ...  2021      5   19\n",
            "2021-05-16 12:00:00  49014.99  48622.62  49157.89  ...  2021      5   19\n",
            "2021-05-16 13:00:00  48618.14  48915.73  48999.10  ...  2021      5   19\n",
            "2021-05-16 14:00:00  48915.78  48284.32  49249.06  ...  2021      5   19\n",
            "2021-05-16 15:00:00  48284.32  48013.72  48331.45  ...  2021      5   19\n",
            "\n",
            "[29560 rows x 9 columns]\n",
            "COMPUSDT :\n",
            "                        open   close    high  ...  Year  Month Week\n",
            "2018-01-01 00:00:00     NaN     NaN     NaN  ...  2018      1    1\n",
            "2018-01-01 01:00:00     NaN     NaN     NaN  ...  2018      1    1\n",
            "2018-01-01 02:00:00     NaN     NaN     NaN  ...  2018      1    1\n",
            "2018-01-01 03:00:00     NaN     NaN     NaN  ...  2018      1    1\n",
            "2018-01-01 04:00:00     NaN     NaN     NaN  ...  2018      1    1\n",
            "...                     ...     ...     ...  ...   ...    ...  ...\n",
            "2021-05-16 11:00:00  728.70  718.19  729.69  ...  2021      5   19\n",
            "2021-05-16 12:00:00  718.60  705.15  721.05  ...  2021      5   19\n",
            "2021-05-16 13:00:00  705.01  705.33  708.51  ...  2021      5   19\n",
            "2021-05-16 14:00:00  705.37  699.58  710.73  ...  2021      5   19\n",
            "2021-05-16 15:00:00  699.45  698.13  700.24  ...  2021      5   19\n",
            "\n",
            "[29560 rows x 9 columns]\n",
            "DASHUSDT :\n",
            "                        open   close    high  ...  Year  Month Week\n",
            "2018-01-01 00:00:00     NaN     NaN     NaN  ...  2018      1    1\n",
            "2018-01-01 01:00:00     NaN     NaN     NaN  ...  2018      1    1\n",
            "2018-01-01 02:00:00     NaN     NaN     NaN  ...  2018      1    1\n",
            "2018-01-01 03:00:00     NaN     NaN     NaN  ...  2018      1    1\n",
            "2018-01-01 04:00:00     NaN     NaN     NaN  ...  2018      1    1\n",
            "...                     ...     ...     ...  ...   ...    ...  ...\n",
            "2021-05-16 11:00:00  363.19  359.60  367.23  ...  2021      5   19\n",
            "2021-05-16 12:00:00  359.74  354.18  361.93  ...  2021      5   19\n",
            "2021-05-16 13:00:00  354.34  357.48  357.98  ...  2021      5   19\n",
            "2021-05-16 14:00:00  357.44  349.75  357.56  ...  2021      5   19\n",
            "2021-05-16 15:00:00  349.74  345.73  350.53  ...  2021      5   19\n",
            "\n",
            "[29560 rows x 9 columns]\n",
            "DOTUSDT :\n",
            "                        open   close    high  ...  Year  Month Week\n",
            "2018-01-01 00:00:00     NaN     NaN     NaN  ...  2018      1    1\n",
            "2018-01-01 01:00:00     NaN     NaN     NaN  ...  2018      1    1\n",
            "2018-01-01 02:00:00     NaN     NaN     NaN  ...  2018      1    1\n",
            "2018-01-01 03:00:00     NaN     NaN     NaN  ...  2018      1    1\n",
            "2018-01-01 04:00:00     NaN     NaN     NaN  ...  2018      1    1\n",
            "...                     ...     ...     ...  ...   ...    ...  ...\n",
            "2021-05-16 11:00:00  46.249  45.213  46.344  ...  2021      5   19\n",
            "2021-05-16 12:00:00  45.212  44.424  45.450  ...  2021      5   19\n",
            "2021-05-16 13:00:00  44.414  44.875  45.117  ...  2021      5   19\n",
            "2021-05-16 14:00:00  44.873  43.871  45.043  ...  2021      5   19\n",
            "2021-05-16 15:00:00  43.889  43.325  44.039  ...  2021      5   19\n",
            "\n",
            "[29560 rows x 9 columns]\n",
            "EOSUSDT :\n",
            "                         open    close     high  ...  Year  Month Week\n",
            "2018-01-01 00:00:00      NaN      NaN      NaN  ...  2018      1    1\n",
            "2018-01-01 01:00:00      NaN      NaN      NaN  ...  2018      1    1\n",
            "2018-01-01 02:00:00      NaN      NaN      NaN  ...  2018      1    1\n",
            "2018-01-01 03:00:00      NaN      NaN      NaN  ...  2018      1    1\n",
            "2018-01-01 04:00:00      NaN      NaN      NaN  ...  2018      1    1\n",
            "...                      ...      ...      ...  ...   ...    ...  ...\n",
            "2021-05-16 11:00:00  11.0994  10.7867  11.1699  ...  2021      5   19\n",
            "2021-05-16 12:00:00  10.7882  10.5700  10.8514  ...  2021      5   19\n",
            "2021-05-16 13:00:00  10.5726  10.6763  10.7000  ...  2021      5   19\n",
            "2021-05-16 14:00:00  10.6763  10.4227  10.7268  ...  2021      5   19\n",
            "2021-05-16 15:00:00  10.4295  10.4335  10.5052  ...  2021      5   19\n",
            "\n",
            "[29560 rows x 9 columns]\n",
            "ETCUSDT :\n",
            "                         open    close     high  ...  Year  Month Week\n",
            "2018-01-01 00:00:00      NaN      NaN      NaN  ...  2018      1    1\n",
            "2018-01-01 01:00:00      NaN      NaN      NaN  ...  2018      1    1\n",
            "2018-01-01 02:00:00      NaN      NaN      NaN  ...  2018      1    1\n",
            "2018-01-01 03:00:00      NaN      NaN      NaN  ...  2018      1    1\n",
            "2018-01-01 04:00:00      NaN      NaN      NaN  ...  2018      1    1\n",
            "...                      ...      ...      ...  ...   ...    ...  ...\n",
            "2021-05-16 11:00:00  103.080  100.213  103.231  ...  2021      5   19\n",
            "2021-05-16 12:00:00  100.216   97.704  100.657  ...  2021      5   19\n",
            "2021-05-16 13:00:00   97.704   98.533   98.967  ...  2021      5   19\n",
            "2021-05-16 14:00:00   98.503   97.226   99.496  ...  2021      5   19\n",
            "2021-05-16 15:00:00   97.200   97.026   97.498  ...  2021      5   19\n",
            "\n",
            "[29560 rows x 9 columns]\n",
            "ETHUSDT :\n",
            "                         open    close     high  ...  Year  Month Week\n",
            "2018-01-01 00:00:00   733.01   727.62   734.52  ...  2018      1    1\n",
            "2018-01-01 01:00:00   727.01   717.97   732.00  ...  2018      1    1\n",
            "2018-01-01 02:00:00   717.67   724.05   725.75  ...  2018      1    1\n",
            "2018-01-01 03:00:00   723.95   734.50   737.99  ...  2018      1    1\n",
            "2018-01-01 04:00:00   734.99   744.82   744.98  ...  2018      1    1\n",
            "...                      ...      ...      ...  ...   ...    ...  ...\n",
            "2021-05-16 11:00:00  3848.25  3789.69  3849.76  ...  2021      5   19\n",
            "2021-05-16 12:00:00  3789.98  3707.51  3804.49  ...  2021      5   19\n",
            "2021-05-16 13:00:00  3707.87  3728.01  3730.91  ...  2021      5   19\n",
            "2021-05-16 14:00:00  3728.00  3677.25  3755.85  ...  2021      5   19\n",
            "2021-05-16 15:00:00  3677.12  3679.32  3684.82  ...  2021      5   19\n",
            "\n",
            "[29560 rows x 9 columns]\n",
            "LINKUSDT :\n",
            "                        open   close    high  ...  Year  Month Week\n",
            "2018-01-01 00:00:00     NaN     NaN     NaN  ...  2018      1    1\n",
            "2018-01-01 01:00:00     NaN     NaN     NaN  ...  2018      1    1\n",
            "2018-01-01 02:00:00     NaN     NaN     NaN  ...  2018      1    1\n",
            "2018-01-01 03:00:00     NaN     NaN     NaN  ...  2018      1    1\n",
            "2018-01-01 04:00:00     NaN     NaN     NaN  ...  2018      1    1\n",
            "...                     ...     ...     ...  ...   ...    ...  ...\n",
            "2021-05-16 11:00:00  44.399  43.647  44.634  ...  2021      5   19\n",
            "2021-05-16 12:00:00  43.663  43.021  43.896  ...  2021      5   19\n",
            "2021-05-16 13:00:00  43.024  43.165  43.267  ...  2021      5   19\n",
            "2021-05-16 14:00:00  43.166  42.440  43.343  ...  2021      5   19\n",
            "2021-05-16 15:00:00  42.431  42.198  42.512  ...  2021      5   19\n",
            "\n",
            "[29560 rows x 9 columns]\n",
            "LTCUSDT :\n",
            "                        open   close    high  ...  Year  Month Week\n",
            "2018-01-01 00:00:00  223.69  219.98  223.69  ...  2018      1    1\n",
            "2018-01-01 01:00:00  219.25  212.75  220.50  ...  2018      1    1\n",
            "2018-01-01 02:00:00  212.75  216.32  216.99  ...  2018      1    1\n",
            "2018-01-01 03:00:00  215.71  218.12  220.99  ...  2018      1    1\n",
            "2018-01-01 04:00:00  218.12  223.95  224.47  ...  2018      1    1\n",
            "...                     ...     ...     ...  ...   ...    ...  ...\n",
            "2021-05-16 11:00:00  322.16  317.43  322.57  ...  2021      5   19\n",
            "2021-05-16 12:00:00  317.49  312.39  318.53  ...  2021      5   19\n",
            "2021-05-16 13:00:00  312.30  314.49  314.70  ...  2021      5   19\n",
            "2021-05-16 14:00:00  314.41  308.62  315.00  ...  2021      5   19\n",
            "2021-05-16 15:00:00  308.61  305.35  309.57  ...  2021      5   19\n",
            "\n",
            "[29560 rows x 9 columns]\n",
            "MKRUSDT :\n",
            "                         open    close     high  ...  Year  Month Week\n",
            "2018-01-01 00:00:00      NaN      NaN      NaN  ...  2018      1    1\n",
            "2018-01-01 01:00:00      NaN      NaN      NaN  ...  2018      1    1\n",
            "2018-01-01 02:00:00      NaN      NaN      NaN  ...  2018      1    1\n",
            "2018-01-01 03:00:00      NaN      NaN      NaN  ...  2018      1    1\n",
            "2018-01-01 04:00:00      NaN      NaN      NaN  ...  2018      1    1\n",
            "...                      ...      ...      ...  ...   ...    ...  ...\n",
            "2021-05-16 11:00:00  4924.36  4804.60  4925.52  ...  2021      5   19\n",
            "2021-05-16 12:00:00  4809.63  4738.03  4826.24  ...  2021      5   19\n",
            "2021-05-16 13:00:00  4738.76  4742.57  4764.85  ...  2021      5   19\n",
            "2021-05-16 14:00:00  4740.94  4698.09  4766.49  ...  2021      5   19\n",
            "2021-05-16 15:00:00  4689.85  4668.47  4697.79  ...  2021      5   19\n",
            "\n",
            "[29560 rows x 9 columns]\n",
            "NEOUSDT :\n",
            "                         open   close     high  ...  Year  Month Week\n",
            "2018-01-01 00:00:00   74.854  72.565   75.072  ...  2018      1    1\n",
            "2018-01-01 01:00:00   72.788  72.680   74.000  ...  2018      1    1\n",
            "2018-01-01 02:00:00   72.720  74.293   74.679  ...  2018      1    1\n",
            "2018-01-01 03:00:00   73.990  74.199   75.445  ...  2018      1    1\n",
            "2018-01-01 04:00:00   74.459  74.499   74.585  ...  2018      1    1\n",
            "...                      ...     ...      ...  ...   ...    ...  ...\n",
            "2021-05-16 11:00:00  101.199  98.884  101.375  ...  2021      5   19\n",
            "2021-05-16 12:00:00   98.911  97.097   99.637  ...  2021      5   19\n",
            "2021-05-16 13:00:00   97.077  98.090   98.463  ...  2021      5   19\n",
            "2021-05-16 14:00:00   98.105  96.530   99.000  ...  2021      5   19\n",
            "2021-05-16 15:00:00   96.530  96.200   96.857  ...  2021      5   19\n",
            "\n",
            "[29560 rows x 9 columns]\n",
            "XMRUSDT :\n",
            "                        open   close    high  ...  Year  Month Week\n",
            "2018-01-01 00:00:00     NaN     NaN     NaN  ...  2018      1    1\n",
            "2018-01-01 01:00:00     NaN     NaN     NaN  ...  2018      1    1\n",
            "2018-01-01 02:00:00     NaN     NaN     NaN  ...  2018      1    1\n",
            "2018-01-01 03:00:00     NaN     NaN     NaN  ...  2018      1    1\n",
            "2018-01-01 04:00:00     NaN     NaN     NaN  ...  2018      1    1\n",
            "...                     ...     ...     ...  ...   ...    ...  ...\n",
            "2021-05-16 11:00:00  402.23  398.90  404.47  ...  2021      5   19\n",
            "2021-05-16 12:00:00  399.12  393.94  401.34  ...  2021      5   19\n",
            "2021-05-16 13:00:00  393.65  398.16  398.64  ...  2021      5   19\n",
            "2021-05-16 14:00:00  398.03  393.24  399.40  ...  2021      5   19\n",
            "2021-05-16 15:00:00  393.02  390.40  393.19  ...  2021      5   19\n",
            "\n",
            "[29560 rows x 9 columns]\n"
          ],
          "name": "stdout"
        }
      ]
    },
    {
      "cell_type": "code",
      "metadata": {
        "colab": {
          "base_uri": "https://localhost:8080/",
          "height": 332
        },
        "id": "7XOWxOYn153m",
        "outputId": "35e0831a-a665-4554-ec43-8e795bb3ee27"
      },
      "source": [
        "#Media general para open\n",
        "df_means =df.groupby(['cripto_activo']).agg({'open': ['mean']})\n",
        "\n",
        "df_means.describe().round(2)"
      ],
      "execution_count": 22,
      "outputs": [
        {
          "output_type": "execute_result",
          "data": {
            "text/html": [
              "<div>\n",
              "<style scoped>\n",
              "    .dataframe tbody tr th:only-of-type {\n",
              "        vertical-align: middle;\n",
              "    }\n",
              "\n",
              "    .dataframe tbody tr th {\n",
              "        vertical-align: top;\n",
              "    }\n",
              "\n",
              "    .dataframe thead tr th {\n",
              "        text-align: left;\n",
              "    }\n",
              "</style>\n",
              "<table border=\"1\" class=\"dataframe\">\n",
              "  <thead>\n",
              "    <tr>\n",
              "      <th></th>\n",
              "      <th>open</th>\n",
              "    </tr>\n",
              "    <tr>\n",
              "      <th></th>\n",
              "      <th>mean</th>\n",
              "    </tr>\n",
              "  </thead>\n",
              "  <tbody>\n",
              "    <tr>\n",
              "      <th>count</th>\n",
              "      <td>16.00</td>\n",
              "    </tr>\n",
              "    <tr>\n",
              "      <th>mean</th>\n",
              "      <td>1022.55</td>\n",
              "    </tr>\n",
              "    <tr>\n",
              "      <th>std</th>\n",
              "      <td>3238.95</td>\n",
              "    </tr>\n",
              "    <tr>\n",
              "      <th>min</th>\n",
              "      <td>0.19</td>\n",
              "    </tr>\n",
              "    <tr>\n",
              "      <th>25%</th>\n",
              "      <td>15.27</td>\n",
              "    </tr>\n",
              "    <tr>\n",
              "      <th>50%</th>\n",
              "      <td>99.36</td>\n",
              "    </tr>\n",
              "    <tr>\n",
              "      <th>75%</th>\n",
              "      <td>293.11</td>\n",
              "    </tr>\n",
              "    <tr>\n",
              "      <th>max</th>\n",
              "      <td>13092.09</td>\n",
              "    </tr>\n",
              "  </tbody>\n",
              "</table>\n",
              "</div>"
            ],
            "text/plain": [
              "           open\n",
              "           mean\n",
              "count     16.00\n",
              "mean    1022.55\n",
              "std     3238.95\n",
              "min        0.19\n",
              "25%       15.27\n",
              "50%       99.36\n",
              "75%      293.11\n",
              "max    13092.09"
            ]
          },
          "metadata": {
            "tags": []
          },
          "execution_count": 22
        }
      ]
    },
    {
      "cell_type": "code",
      "metadata": {
        "colab": {
          "base_uri": "https://localhost:8080/",
          "height": 332
        },
        "id": "0vB8JKGV2BWx",
        "outputId": "e8981c3b-191f-452d-ac35-5b5fad0cce2b"
      },
      "source": [
        "#Media general para close/high/low\n",
        "df_means =df.groupby(['cripto_activo']).agg({'close': ['mean']})#.reset_index()\n",
        "\n",
        "df_means.describe().round(2)"
      ],
      "execution_count": 23,
      "outputs": [
        {
          "output_type": "execute_result",
          "data": {
            "text/html": [
              "<div>\n",
              "<style scoped>\n",
              "    .dataframe tbody tr th:only-of-type {\n",
              "        vertical-align: middle;\n",
              "    }\n",
              "\n",
              "    .dataframe tbody tr th {\n",
              "        vertical-align: top;\n",
              "    }\n",
              "\n",
              "    .dataframe thead tr th {\n",
              "        text-align: left;\n",
              "    }\n",
              "</style>\n",
              "<table border=\"1\" class=\"dataframe\">\n",
              "  <thead>\n",
              "    <tr>\n",
              "      <th></th>\n",
              "      <th>close</th>\n",
              "    </tr>\n",
              "    <tr>\n",
              "      <th></th>\n",
              "      <th>mean</th>\n",
              "    </tr>\n",
              "  </thead>\n",
              "  <tbody>\n",
              "    <tr>\n",
              "      <th>count</th>\n",
              "      <td>16.00</td>\n",
              "    </tr>\n",
              "    <tr>\n",
              "      <th>mean</th>\n",
              "      <td>1022.69</td>\n",
              "    </tr>\n",
              "    <tr>\n",
              "      <th>std</th>\n",
              "      <td>3239.24</td>\n",
              "    </tr>\n",
              "    <tr>\n",
              "      <th>min</th>\n",
              "      <td>0.19</td>\n",
              "    </tr>\n",
              "    <tr>\n",
              "      <th>25%</th>\n",
              "      <td>15.28</td>\n",
              "    </tr>\n",
              "    <tr>\n",
              "      <th>50%</th>\n",
              "      <td>99.36</td>\n",
              "    </tr>\n",
              "    <tr>\n",
              "      <th>75%</th>\n",
              "      <td>293.17</td>\n",
              "    </tr>\n",
              "    <tr>\n",
              "      <th>max</th>\n",
              "      <td>13093.26</td>\n",
              "    </tr>\n",
              "  </tbody>\n",
              "</table>\n",
              "</div>"
            ],
            "text/plain": [
              "          close\n",
              "           mean\n",
              "count     16.00\n",
              "mean    1022.69\n",
              "std     3239.24\n",
              "min        0.19\n",
              "25%       15.28\n",
              "50%       99.36\n",
              "75%      293.17\n",
              "max    13093.26"
            ]
          },
          "metadata": {
            "tags": []
          },
          "execution_count": 23
        }
      ]
    },
    {
      "cell_type": "markdown",
      "metadata": {
        "id": "I1hGGNTp304Z"
      },
      "source": [
        "Se observa que los estadísticos de 'open' y 'close' son idénticos!"
      ]
    },
    {
      "cell_type": "code",
      "metadata": {
        "colab": {
          "base_uri": "https://localhost:8080/",
          "height": 332
        },
        "id": "GTNzO5Od2Blf",
        "outputId": "a4c0b7ac-5910-4828-cec8-88036925a634"
      },
      "source": [
        "#Media general para high\n",
        "df_means =df.groupby(['cripto_activo']).agg({'high': ['mean']})#.reset_index()\n",
        "#dejamos solo 2 decimales\n",
        "df_means.describe().round(2)"
      ],
      "execution_count": 24,
      "outputs": [
        {
          "output_type": "execute_result",
          "data": {
            "text/html": [
              "<div>\n",
              "<style scoped>\n",
              "    .dataframe tbody tr th:only-of-type {\n",
              "        vertical-align: middle;\n",
              "    }\n",
              "\n",
              "    .dataframe tbody tr th {\n",
              "        vertical-align: top;\n",
              "    }\n",
              "\n",
              "    .dataframe thead tr th {\n",
              "        text-align: left;\n",
              "    }\n",
              "</style>\n",
              "<table border=\"1\" class=\"dataframe\">\n",
              "  <thead>\n",
              "    <tr>\n",
              "      <th></th>\n",
              "      <th>high</th>\n",
              "    </tr>\n",
              "    <tr>\n",
              "      <th></th>\n",
              "      <th>mean</th>\n",
              "    </tr>\n",
              "  </thead>\n",
              "  <tbody>\n",
              "    <tr>\n",
              "      <th>count</th>\n",
              "      <td>16.00</td>\n",
              "    </tr>\n",
              "    <tr>\n",
              "      <th>mean</th>\n",
              "      <td>1029.79</td>\n",
              "    </tr>\n",
              "    <tr>\n",
              "      <th>std</th>\n",
              "      <td>3258.53</td>\n",
              "    </tr>\n",
              "    <tr>\n",
              "      <th>min</th>\n",
              "      <td>0.20</td>\n",
              "    </tr>\n",
              "    <tr>\n",
              "      <th>25%</th>\n",
              "      <td>15.45</td>\n",
              "    </tr>\n",
              "    <tr>\n",
              "      <th>50%</th>\n",
              "      <td>100.20</td>\n",
              "    </tr>\n",
              "    <tr>\n",
              "      <th>75%</th>\n",
              "      <td>296.46</td>\n",
              "    </tr>\n",
              "    <tr>\n",
              "      <th>max</th>\n",
              "      <td>13171.33</td>\n",
              "    </tr>\n",
              "  </tbody>\n",
              "</table>\n",
              "</div>"
            ],
            "text/plain": [
              "           high\n",
              "           mean\n",
              "count     16.00\n",
              "mean    1029.79\n",
              "std     3258.53\n",
              "min        0.20\n",
              "25%       15.45\n",
              "50%      100.20\n",
              "75%      296.46\n",
              "max    13171.33"
            ]
          },
          "metadata": {
            "tags": []
          },
          "execution_count": 24
        }
      ]
    },
    {
      "cell_type": "code",
      "metadata": {
        "colab": {
          "base_uri": "https://localhost:8080/",
          "height": 332
        },
        "id": "tt7DPTeZ2BzU",
        "outputId": "387b180d-f7e2-4a8e-ef3f-350b6676a338"
      },
      "source": [
        "#Media general para low\n",
        "df_means =df.groupby(['cripto_activo']).agg({'low': ['mean']})#.reset_index()\n",
        "#dejamos solo 2 decimales\n",
        "df_means.describe().round(2)"
      ],
      "execution_count": 25,
      "outputs": [
        {
          "output_type": "execute_result",
          "data": {
            "text/html": [
              "<div>\n",
              "<style scoped>\n",
              "    .dataframe tbody tr th:only-of-type {\n",
              "        vertical-align: middle;\n",
              "    }\n",
              "\n",
              "    .dataframe tbody tr th {\n",
              "        vertical-align: top;\n",
              "    }\n",
              "\n",
              "    .dataframe thead tr th {\n",
              "        text-align: left;\n",
              "    }\n",
              "</style>\n",
              "<table border=\"1\" class=\"dataframe\">\n",
              "  <thead>\n",
              "    <tr>\n",
              "      <th></th>\n",
              "      <th>low</th>\n",
              "    </tr>\n",
              "    <tr>\n",
              "      <th></th>\n",
              "      <th>mean</th>\n",
              "    </tr>\n",
              "  </thead>\n",
              "  <tbody>\n",
              "    <tr>\n",
              "      <th>count</th>\n",
              "      <td>16.00</td>\n",
              "    </tr>\n",
              "    <tr>\n",
              "      <th>mean</th>\n",
              "      <td>1014.84</td>\n",
              "    </tr>\n",
              "    <tr>\n",
              "      <th>std</th>\n",
              "      <td>3217.66</td>\n",
              "    </tr>\n",
              "    <tr>\n",
              "      <th>min</th>\n",
              "      <td>0.19</td>\n",
              "    </tr>\n",
              "    <tr>\n",
              "      <th>25%</th>\n",
              "      <td>15.09</td>\n",
              "    </tr>\n",
              "    <tr>\n",
              "      <th>50%</th>\n",
              "      <td>98.46</td>\n",
              "    </tr>\n",
              "    <tr>\n",
              "      <th>75%</th>\n",
              "      <td>289.67</td>\n",
              "    </tr>\n",
              "    <tr>\n",
              "      <th>max</th>\n",
              "      <td>13005.86</td>\n",
              "    </tr>\n",
              "  </tbody>\n",
              "</table>\n",
              "</div>"
            ],
            "text/plain": [
              "            low\n",
              "           mean\n",
              "count     16.00\n",
              "mean    1014.84\n",
              "std     3217.66\n",
              "min        0.19\n",
              "25%       15.09\n",
              "50%       98.46\n",
              "75%      289.67\n",
              "max    13005.86"
            ]
          },
          "metadata": {
            "tags": []
          },
          "execution_count": 25
        }
      ]
    },
    {
      "cell_type": "code",
      "metadata": {
        "colab": {
          "base_uri": "https://localhost:8080/",
          "height": 519
        },
        "id": "BrMvu69r5Ejd",
        "outputId": "89960455-48b2-4a73-ee65-de757b8914ce"
      },
      "source": [
        "cols_plot = ['volume', 'open', 'close','high', 'low']\n",
        "axes = df[cols_plot].plot(marker='.', alpha=0.5, linestyle='None', figsize=(11, 9), subplots=True)\n",
        "for ax in axes:\n",
        "    ax.set_ylabel('Unidades')"
      ],
      "execution_count": 26,
      "outputs": [
        {
          "output_type": "display_data",
          "data": {
            "image/png": "[encoded data removed]",
            "text/plain": [
              "<Figure size 792x648 with 5 Axes>"
            ]
          },
          "metadata": {
            "tags": [],
            "needs_background": "light"
          }
        }
      ]
    },
    {
      "cell_type": "code",
      "metadata": {
        "colab": {
          "base_uri": "https://localhost:8080/",
          "height": 291
        },
        "id": "lfr_KwUh6mlw",
        "outputId": "ca83ede3-76c4-46f5-e7da-ea63a77ad456"
      },
      "source": [
        "ax = df.loc['2020', 'volume'].plot()\n",
        "ax.set_ylabel('UNidades')"
      ],
      "execution_count": 27,
      "outputs": [
        {
          "output_type": "execute_result",
          "data": {
            "text/plain": [
              "Text(0, 0.5, 'UNidades')"
            ]
          },
          "metadata": {
            "tags": []
          },
          "execution_count": 27
        },
        {
          "output_type": "display_data",
          "data": {
            "image/png": "[encoded data removed]",
            "text/plain": [
              "<Figure size 432x288 with 1 Axes>"
            ]
          },
          "metadata": {
            "tags": [],
            "needs_background": "light"
          }
        }
      ]
    },
    {
      "cell_type": "code",
      "metadata": {
        "colab": {
          "base_uri": "https://localhost:8080/",
          "height": 621
        },
        "id": "tQbAa4h-64m2",
        "outputId": "34589291-53a8-4d1a-9aa5-c7f7da71bc36"
      },
      "source": [
        "fig, axes = plt.subplots(3, 1, figsize=(11, 10), sharex=True)\n",
        "for name, ax in zip(['volume', 'open', 'close','high', 'low'], axes):\n",
        "  seaborn.boxplot(data=df, x='Year', y=name, ax=ax)\n",
        "  ax.set_ylabel('Unidades')\n",
        "  ax.set_title(name)\n",
        "# Remove the automatic x-axis label from all but the bottom subplot\n",
        "if ax != axes[-1]:\n",
        "    ax.set_xlabel('')"
      ],
      "execution_count": 28,
      "outputs": [
        {
          "output_type": "display_data",
          "data": {
            "image/png": "[encoded data removed]",
            "text/plain": [
              "<Figure size 792x720 with 3 Axes>"
            ]
          },
          "metadata": {
            "tags": [],
            "needs_background": "light"
          }
        }
      ]
    },
    {
      "cell_type": "code",
      "metadata": {
        "colab": {
          "base_uri": "https://localhost:8080/",
          "height": 307
        },
        "id": "9-Ap7ST-8rOC",
        "outputId": "cd951021-8f91-4c20-8547-e49a9aa28de2"
      },
      "source": [
        "#gráfico parecido pero no igual (dbería ser un boxplot)\n",
        "seaborn.boxplot(data=df, x='Year', y='volume')"
      ],
      "execution_count": 29,
      "outputs": [
        {
          "output_type": "execute_result",
          "data": {
            "text/plain": [
              "<matplotlib.axes._subplots.AxesSubplot at 0x7f5076fbab10>"
            ]
          },
          "metadata": {
            "tags": []
          },
          "execution_count": 29
        },
        {
          "output_type": "display_data",
          "data": {
            "image/png": "[encoded data removed]",
            "text/plain": [
              "<Figure size 432x288 with 1 Axes>"
            ]
          },
          "metadata": {
            "tags": [],
            "needs_background": "light"
          }
        }
      ]
    },
    {
      "cell_type": "code",
      "metadata": {
        "colab": {
          "base_uri": "https://localhost:8080/",
          "height": 621
        },
        "id": "08m_8kwh7jfX",
        "outputId": "702e29d0-b587-4932-aa7d-20f4d364234e"
      },
      "source": [
        "fig, axes = plt.subplots(3, 1, figsize=(11, 10), sharex=True)\n",
        "for name, ax in zip(['volume', 'open', 'close','high', 'low'], axes):\n",
        "  seaborn.boxplot(data=df, x='Month', y=name, ax=ax)\n",
        "  ax.set_ylabel('Unidades')\n",
        "  ax.set_title(name)\n",
        "# Remove the automatic x-axis label from all but the bottom subplot\n",
        "if ax != axes[-1]:\n",
        "    ax.set_xlabel('')\n",
        "\n",
        "    #parece que hubiera doble valor por mes pero creo que es porque el mismo mes de varios años:"
      ],
      "execution_count": 30,
      "outputs": [
        {
          "output_type": "display_data",
          "data": {
            "image/png": "[encoded data removed]",
            "text/plain": [
              "<Figure size 792x720 with 3 Axes>"
            ]
          },
          "metadata": {
            "tags": [],
            "needs_background": "light"
          }
        }
      ]
    },
    {
      "cell_type": "code",
      "metadata": {
        "colab": {
          "base_uri": "https://localhost:8080/",
          "height": 621
        },
        "id": "A6QU54TR8Rrb",
        "outputId": "51c27497-aee0-445e-88d2-dedbedd5beb2"
      },
      "source": [
        "fig, axes = plt.subplots(3, 1, figsize=(11, 10), sharex=True)\n",
        "for name, ax in zip(['volume', 'open', 'close','high', 'low'], axes):\n",
        "  seaborn.boxplot(data=df, x='Week', y=name, ax=ax)\n",
        "  ax.set_ylabel('Unidades')\n",
        "  ax.set_title(name)\n",
        "# Remove the automatic x-axis label from all but the bottom subplot\n",
        "if ax != axes[-1]:\n",
        "    ax.set_xlabel('')"
      ],
      "execution_count": 31,
      "outputs": [
        {
          "output_type": "display_data",
          "data": {
            "image/png": "[encoded data removed]",
            "text/plain": [
              "<Figure size 792x720 with 3 Axes>"
            ]
          },
          "metadata": {
            "tags": [],
            "needs_background": "light"
          }
        }
      ]
    },
    {
      "cell_type": "code",
      "metadata": {
        "id": "B7Fiq5hd9Yub",
        "colab": {
          "base_uri": "https://localhost:8080/"
        },
        "outputId": "3aebe4f0-9bf2-465c-f734-ff9b3fdfdfbc"
      },
      "source": [
        "df.dtypes"
      ],
      "execution_count": 32,
      "outputs": [
        {
          "output_type": "execute_result",
          "data": {
            "text/plain": [
              "open             float64\n",
              "close            float64\n",
              "high             float64\n",
              "low              float64\n",
              "volume           float64\n",
              "cripto_activo     object\n",
              "Year               int64\n",
              "Month              int64\n",
              "Week               int64\n",
              "dtype: object"
            ]
          },
          "metadata": {
            "tags": []
          },
          "execution_count": 32
        }
      ]
    },
    {
      "cell_type": "code",
      "metadata": {
        "colab": {
          "base_uri": "https://localhost:8080/",
          "height": 206
        },
        "id": "SCjRl_OYSy2O",
        "outputId": "56fd85f1-c9f6-41d1-a185-9c9824550bae"
      },
      "source": [
        "df.tail()"
      ],
      "execution_count": 33,
      "outputs": [
        {
          "output_type": "execute_result",
          "data": {
            "text/html": [
              "<div>\n",
              "<style scoped>\n",
              "    .dataframe tbody tr th:only-of-type {\n",
              "        vertical-align: middle;\n",
              "    }\n",
              "\n",
              "    .dataframe tbody tr th {\n",
              "        vertical-align: top;\n",
              "    }\n",
              "\n",
              "    .dataframe thead th {\n",
              "        text-align: right;\n",
              "    }\n",
              "</style>\n",
              "<table border=\"1\" class=\"dataframe\">\n",
              "  <thead>\n",
              "    <tr style=\"text-align: right;\">\n",
              "      <th></th>\n",
              "      <th>open</th>\n",
              "      <th>close</th>\n",
              "      <th>high</th>\n",
              "      <th>low</th>\n",
              "      <th>volume</th>\n",
              "      <th>cripto_activo</th>\n",
              "      <th>Year</th>\n",
              "      <th>Month</th>\n",
              "      <th>Week</th>\n",
              "    </tr>\n",
              "  </thead>\n",
              "  <tbody>\n",
              "    <tr>\n",
              "      <th>2021-05-16 11:00:00</th>\n",
              "      <td>402.23</td>\n",
              "      <td>398.90</td>\n",
              "      <td>404.47</td>\n",
              "      <td>397.26</td>\n",
              "      <td>4005.66944</td>\n",
              "      <td>XMRUSDT</td>\n",
              "      <td>2021</td>\n",
              "      <td>5</td>\n",
              "      <td>19</td>\n",
              "    </tr>\n",
              "    <tr>\n",
              "      <th>2021-05-16 12:00:00</th>\n",
              "      <td>399.12</td>\n",
              "      <td>393.94</td>\n",
              "      <td>401.34</td>\n",
              "      <td>393.18</td>\n",
              "      <td>3907.98362</td>\n",
              "      <td>XMRUSDT</td>\n",
              "      <td>2021</td>\n",
              "      <td>5</td>\n",
              "      <td>19</td>\n",
              "    </tr>\n",
              "    <tr>\n",
              "      <th>2021-05-16 13:00:00</th>\n",
              "      <td>393.65</td>\n",
              "      <td>398.16</td>\n",
              "      <td>398.64</td>\n",
              "      <td>391.34</td>\n",
              "      <td>3962.75618</td>\n",
              "      <td>XMRUSDT</td>\n",
              "      <td>2021</td>\n",
              "      <td>5</td>\n",
              "      <td>19</td>\n",
              "    </tr>\n",
              "    <tr>\n",
              "      <th>2021-05-16 14:00:00</th>\n",
              "      <td>398.03</td>\n",
              "      <td>393.24</td>\n",
              "      <td>399.40</td>\n",
              "      <td>390.54</td>\n",
              "      <td>3418.55213</td>\n",
              "      <td>XMRUSDT</td>\n",
              "      <td>2021</td>\n",
              "      <td>5</td>\n",
              "      <td>19</td>\n",
              "    </tr>\n",
              "    <tr>\n",
              "      <th>2021-05-16 15:00:00</th>\n",
              "      <td>393.02</td>\n",
              "      <td>390.40</td>\n",
              "      <td>393.19</td>\n",
              "      <td>385.91</td>\n",
              "      <td>2479.33209</td>\n",
              "      <td>XMRUSDT</td>\n",
              "      <td>2021</td>\n",
              "      <td>5</td>\n",
              "      <td>19</td>\n",
              "    </tr>\n",
              "  </tbody>\n",
              "</table>\n",
              "</div>"
            ],
            "text/plain": [
              "                       open   close    high  ...  Year  Month Week\n",
              "2021-05-16 11:00:00  402.23  398.90  404.47  ...  2021      5   19\n",
              "2021-05-16 12:00:00  399.12  393.94  401.34  ...  2021      5   19\n",
              "2021-05-16 13:00:00  393.65  398.16  398.64  ...  2021      5   19\n",
              "2021-05-16 14:00:00  398.03  393.24  399.40  ...  2021      5   19\n",
              "2021-05-16 15:00:00  393.02  390.40  393.19  ...  2021      5   19\n",
              "\n",
              "[5 rows x 9 columns]"
            ]
          },
          "metadata": {
            "tags": []
          },
          "execution_count": 33
        }
      ]
    },
    {
      "cell_type": "code",
      "metadata": {
        "colab": {
          "base_uri": "https://localhost:8080/"
        },
        "id": "8a2MRARyWyen",
        "outputId": "a630b0ac-56e7-4c28-c9f1-aa6089be151e"
      },
      "source": [
        "lcactivos=df['cripto_activo'].unique()\n",
        "len(lcactivos)"
      ],
      "execution_count": 34,
      "outputs": [
        {
          "output_type": "execute_result",
          "data": {
            "text/plain": [
              "16"
            ]
          },
          "metadata": {
            "tags": []
          },
          "execution_count": 34
        }
      ]
    },
    {
      "cell_type": "markdown",
      "metadata": {
        "id": "Hj1C08EFR8Vb"
      },
      "source": [
        "Las variables **open, close, high, low y volume** son de tipo numéricas continuas, la variable **cripto_activo** es de tipo categorica y como indice de fila, la fecha.\n",
        "Se tienen **16 cripto activos** para analizar."
      ]
    },
    {
      "cell_type": "code",
      "metadata": {
        "colab": {
          "base_uri": "https://localhost:8080/"
        },
        "id": "U351W60FTJB1",
        "outputId": "32566e4d-0cd1-4d99-9b44-51cd24ae7490"
      },
      "source": [
        "df.index.min(),df.index.max()"
      ],
      "execution_count": 35,
      "outputs": [
        {
          "output_type": "execute_result",
          "data": {
            "text/plain": [
              "(Timestamp('2018-01-01 00:00:00'), Timestamp('2021-05-16 15:00:00'))"
            ]
          },
          "metadata": {
            "tags": []
          },
          "execution_count": 35
        }
      ]
    },
    {
      "cell_type": "code",
      "metadata": {
        "colab": {
          "base_uri": "https://localhost:8080/",
          "height": 206
        },
        "id": "DqimLOW0TXuU",
        "outputId": "984ba8b4-307d-47fb-e367-6a9d3342b1bb"
      },
      "source": [
        "df.head()"
      ],
      "execution_count": 36,
      "outputs": [
        {
          "output_type": "execute_result",
          "data": {
            "text/html": [
              "<div>\n",
              "<style scoped>\n",
              "    .dataframe tbody tr th:only-of-type {\n",
              "        vertical-align: middle;\n",
              "    }\n",
              "\n",
              "    .dataframe tbody tr th {\n",
              "        vertical-align: top;\n",
              "    }\n",
              "\n",
              "    .dataframe thead th {\n",
              "        text-align: right;\n",
              "    }\n",
              "</style>\n",
              "<table border=\"1\" class=\"dataframe\">\n",
              "  <thead>\n",
              "    <tr style=\"text-align: right;\">\n",
              "      <th></th>\n",
              "      <th>open</th>\n",
              "      <th>close</th>\n",
              "      <th>high</th>\n",
              "      <th>low</th>\n",
              "      <th>volume</th>\n",
              "      <th>cripto_activo</th>\n",
              "      <th>Year</th>\n",
              "      <th>Month</th>\n",
              "      <th>Week</th>\n",
              "    </tr>\n",
              "  </thead>\n",
              "  <tbody>\n",
              "    <tr>\n",
              "      <th>2018-01-01 00:00:00</th>\n",
              "      <td>NaN</td>\n",
              "      <td>NaN</td>\n",
              "      <td>NaN</td>\n",
              "      <td>NaN</td>\n",
              "      <td>NaN</td>\n",
              "      <td>AAVEUSDT</td>\n",
              "      <td>2018</td>\n",
              "      <td>1</td>\n",
              "      <td>1</td>\n",
              "    </tr>\n",
              "    <tr>\n",
              "      <th>2018-01-01 01:00:00</th>\n",
              "      <td>NaN</td>\n",
              "      <td>NaN</td>\n",
              "      <td>NaN</td>\n",
              "      <td>NaN</td>\n",
              "      <td>NaN</td>\n",
              "      <td>AAVEUSDT</td>\n",
              "      <td>2018</td>\n",
              "      <td>1</td>\n",
              "      <td>1</td>\n",
              "    </tr>\n",
              "    <tr>\n",
              "      <th>2018-01-01 02:00:00</th>\n",
              "      <td>NaN</td>\n",
              "      <td>NaN</td>\n",
              "      <td>NaN</td>\n",
              "      <td>NaN</td>\n",
              "      <td>NaN</td>\n",
              "      <td>AAVEUSDT</td>\n",
              "      <td>2018</td>\n",
              "      <td>1</td>\n",
              "      <td>1</td>\n",
              "    </tr>\n",
              "    <tr>\n",
              "      <th>2018-01-01 03:00:00</th>\n",
              "      <td>NaN</td>\n",
              "      <td>NaN</td>\n",
              "      <td>NaN</td>\n",
              "      <td>NaN</td>\n",
              "      <td>NaN</td>\n",
              "      <td>AAVEUSDT</td>\n",
              "      <td>2018</td>\n",
              "      <td>1</td>\n",
              "      <td>1</td>\n",
              "    </tr>\n",
              "    <tr>\n",
              "      <th>2018-01-01 04:00:00</th>\n",
              "      <td>NaN</td>\n",
              "      <td>NaN</td>\n",
              "      <td>NaN</td>\n",
              "      <td>NaN</td>\n",
              "      <td>NaN</td>\n",
              "      <td>AAVEUSDT</td>\n",
              "      <td>2018</td>\n",
              "      <td>1</td>\n",
              "      <td>1</td>\n",
              "    </tr>\n",
              "  </tbody>\n",
              "</table>\n",
              "</div>"
            ],
            "text/plain": [
              "                     open  close  high  low  ...  cripto_activo  Year  Month  Week\n",
              "2018-01-01 00:00:00   NaN    NaN   NaN  NaN  ...       AAVEUSDT  2018      1     1\n",
              "2018-01-01 01:00:00   NaN    NaN   NaN  NaN  ...       AAVEUSDT  2018      1     1\n",
              "2018-01-01 02:00:00   NaN    NaN   NaN  NaN  ...       AAVEUSDT  2018      1     1\n",
              "2018-01-01 03:00:00   NaN    NaN   NaN  NaN  ...       AAVEUSDT  2018      1     1\n",
              "2018-01-01 04:00:00   NaN    NaN   NaN  NaN  ...       AAVEUSDT  2018      1     1\n",
              "\n",
              "[5 rows x 9 columns]"
            ]
          },
          "metadata": {
            "tags": []
          },
          "execution_count": 36
        }
      ]
    },
    {
      "cell_type": "markdown",
      "metadata": {
        "id": "zGB-oaLvXMpp"
      },
      "source": [
        "###Periodo"
      ]
    },
    {
      "cell_type": "code",
      "metadata": {
        "id": "qq9pkqah9Yub",
        "colab": {
          "base_uri": "https://localhost:8080/"
        },
        "outputId": "2238027c-d0c9-42d5-8122-c64f3b97c1c9"
      },
      "source": [
        "f_mins=[]\n",
        "f_maxs=[]\n",
        "for i in df['cripto_activo'].unique():\n",
        "    f_min=df[(df['cripto_activo']==i)& (pd.notnull(df['volume']))].index.min()\n",
        "    f_max=df[(df['cripto_activo']==i)& (pd.notnull(df['volume']))].index.max()\n",
        "    f_mins.append(f_min)\n",
        "    f_maxs.append(f_max)\n",
        "    print(i,f_min,f_max)\n",
        "\n",
        "print('\\nPeriodo donde todos los cripto activos tienen información:  desde',max(f_mins),'   hasta',min(f_maxs),'\\n')\n",
        "f_mins.sort()\n",
        "for f in f_mins:\n",
        "  print(f)\n"
      ],
      "execution_count": 37,
      "outputs": [
        {
          "output_type": "stream",
          "text": [
            "AAVEUSDT 2020-10-15 03:00:00 2021-05-16 15:00:00\n",
            "ADAUSDT 2018-04-17 04:00:00 2021-05-16 15:00:00\n",
            "BCHUSDT 2019-11-28 10:00:00 2021-05-16 15:00:00\n",
            "BNBUSDT 2018-01-01 00:00:00 2021-05-16 15:00:00\n",
            "BTCUSDT 2018-01-01 00:00:00 2021-05-16 15:00:00\n",
            "COMPUSDT 2020-06-25 06:00:00 2021-05-16 15:00:00\n",
            "DASHUSDT 2019-03-28 04:00:00 2021-05-16 15:00:00\n",
            "DOTUSDT 2020-08-18 23:00:00 2021-05-16 15:00:00\n",
            "EOSUSDT 2018-05-28 05:00:00 2021-05-16 15:00:00\n",
            "ETCUSDT 2018-06-12 02:00:00 2021-05-16 15:00:00\n",
            "ETHUSDT 2018-01-01 00:00:00 2021-05-16 15:00:00\n",
            "LINKUSDT 2019-01-16 10:00:00 2021-05-16 15:00:00\n",
            "LTCUSDT 2018-01-01 00:00:00 2021-05-16 15:00:00\n",
            "MKRUSDT 2020-07-23 14:00:00 2021-05-16 15:00:00\n",
            "NEOUSDT 2018-01-01 00:00:00 2021-05-16 15:00:00\n",
            "XMRUSDT 2019-03-15 04:00:00 2021-05-16 15:00:00\n",
            "\n",
            "Periodo donde todos los cripto activos tienen información:  desde 2020-10-15 03:00:00    hasta 2021-05-16 15:00:00 \n",
            "\n",
            "2018-01-01 00:00:00\n",
            "2018-01-01 00:00:00\n",
            "2018-01-01 00:00:00\n",
            "2018-01-01 00:00:00\n",
            "2018-01-01 00:00:00\n",
            "2018-04-17 04:00:00\n",
            "2018-05-28 05:00:00\n",
            "2018-06-12 02:00:00\n",
            "2019-01-16 10:00:00\n",
            "2019-03-15 04:00:00\n",
            "2019-03-28 04:00:00\n",
            "2019-11-28 10:00:00\n",
            "2020-06-25 06:00:00\n",
            "2020-07-23 14:00:00\n",
            "2020-08-18 23:00:00\n",
            "2020-10-15 03:00:00\n"
          ],
          "name": "stdout"
        }
      ]
    },
    {
      "cell_type": "markdown",
      "metadata": {
        "id": "M5lwnwrtTSs4"
      },
      "source": [
        "Estudiando el periodo se observa que si bien todos los dataset son del **01/01/2018** al **16/05/2021**, muchos tienen valores NaN en el principio de este intervalo de tiempo, tal vez porque no existian en ese momento. Haciendo un analisis se ve que el periodo donde todos los cripto activos tendrian valores seria desde el **15/10/2020** al **16/05/2021**, pero sería un periodo muy corto tal vez para hacer el estudio, ya que se perderia infromación importante de los otros cripto activos, ya que por ejemplo hay 8 criptoactivos que al menos tienen información desde el **12/06/2018**.\n",
        "\n",
        "Por lo que el periodo que elegimos para estudiar es el de xx/xx/xxxx al 16/05/2021."
      ]
    },
    {
      "cell_type": "code",
      "metadata": {
        "id": "tuMEhK7O9Yub",
        "colab": {
          "base_uri": "https://localhost:8080/",
          "height": 424
        },
        "outputId": "8d8d970d-4c62-4a9d-aaec-ed4e70e47774"
      },
      "source": [
        "df[(df['cripto_activo']=='ADAUSDT')]"
      ],
      "execution_count": 38,
      "outputs": [
        {
          "output_type": "execute_result",
          "data": {
            "text/html": [
              "<div>\n",
              "<style scoped>\n",
              "    .dataframe tbody tr th:only-of-type {\n",
              "        vertical-align: middle;\n",
              "    }\n",
              "\n",
              "    .dataframe tbody tr th {\n",
              "        vertical-align: top;\n",
              "    }\n",
              "\n",
              "    .dataframe thead th {\n",
              "        text-align: right;\n",
              "    }\n",
              "</style>\n",
              "<table border=\"1\" class=\"dataframe\">\n",
              "  <thead>\n",
              "    <tr style=\"text-align: right;\">\n",
              "      <th></th>\n",
              "      <th>open</th>\n",
              "      <th>close</th>\n",
              "      <th>high</th>\n",
              "      <th>low</th>\n",
              "      <th>volume</th>\n",
              "      <th>cripto_activo</th>\n",
              "      <th>Year</th>\n",
              "      <th>Month</th>\n",
              "      <th>Week</th>\n",
              "    </tr>\n",
              "  </thead>\n",
              "  <tbody>\n",
              "    <tr>\n",
              "      <th>2018-01-01 00:00:00</th>\n",
              "      <td>NaN</td>\n",
              "      <td>NaN</td>\n",
              "      <td>NaN</td>\n",
              "      <td>NaN</td>\n",
              "      <td>NaN</td>\n",
              "      <td>ADAUSDT</td>\n",
              "      <td>2018</td>\n",
              "      <td>1</td>\n",
              "      <td>1</td>\n",
              "    </tr>\n",
              "    <tr>\n",
              "      <th>2018-01-01 01:00:00</th>\n",
              "      <td>NaN</td>\n",
              "      <td>NaN</td>\n",
              "      <td>NaN</td>\n",
              "      <td>NaN</td>\n",
              "      <td>NaN</td>\n",
              "      <td>ADAUSDT</td>\n",
              "      <td>2018</td>\n",
              "      <td>1</td>\n",
              "      <td>1</td>\n",
              "    </tr>\n",
              "    <tr>\n",
              "      <th>2018-01-01 02:00:00</th>\n",
              "      <td>NaN</td>\n",
              "      <td>NaN</td>\n",
              "      <td>NaN</td>\n",
              "      <td>NaN</td>\n",
              "      <td>NaN</td>\n",
              "      <td>ADAUSDT</td>\n",
              "      <td>2018</td>\n",
              "      <td>1</td>\n",
              "      <td>1</td>\n",
              "    </tr>\n",
              "    <tr>\n",
              "      <th>2018-01-01 03:00:00</th>\n",
              "      <td>NaN</td>\n",
              "      <td>NaN</td>\n",
              "      <td>NaN</td>\n",
              "      <td>NaN</td>\n",
              "      <td>NaN</td>\n",
              "      <td>ADAUSDT</td>\n",
              "      <td>2018</td>\n",
              "      <td>1</td>\n",
              "      <td>1</td>\n",
              "    </tr>\n",
              "    <tr>\n",
              "      <th>2018-01-01 04:00:00</th>\n",
              "      <td>NaN</td>\n",
              "      <td>NaN</td>\n",
              "      <td>NaN</td>\n",
              "      <td>NaN</td>\n",
              "      <td>NaN</td>\n",
              "      <td>ADAUSDT</td>\n",
              "      <td>2018</td>\n",
              "      <td>1</td>\n",
              "      <td>1</td>\n",
              "    </tr>\n",
              "    <tr>\n",
              "      <th>...</th>\n",
              "      <td>...</td>\n",
              "      <td>...</td>\n",
              "      <td>...</td>\n",
              "      <td>...</td>\n",
              "      <td>...</td>\n",
              "      <td>...</td>\n",
              "      <td>...</td>\n",
              "      <td>...</td>\n",
              "      <td>...</td>\n",
              "    </tr>\n",
              "    <tr>\n",
              "      <th>2021-05-16 11:00:00</th>\n",
              "      <td>2.3886</td>\n",
              "      <td>2.3828</td>\n",
              "      <td>2.4216</td>\n",
              "      <td>2.3814</td>\n",
              "      <td>25239930.91</td>\n",
              "      <td>ADAUSDT</td>\n",
              "      <td>2021</td>\n",
              "      <td>5</td>\n",
              "      <td>19</td>\n",
              "    </tr>\n",
              "    <tr>\n",
              "      <th>2021-05-16 12:00:00</th>\n",
              "      <td>2.3829</td>\n",
              "      <td>2.3379</td>\n",
              "      <td>2.3998</td>\n",
              "      <td>2.3211</td>\n",
              "      <td>37295824.65</td>\n",
              "      <td>ADAUSDT</td>\n",
              "      <td>2021</td>\n",
              "      <td>5</td>\n",
              "      <td>19</td>\n",
              "    </tr>\n",
              "    <tr>\n",
              "      <th>2021-05-16 13:00:00</th>\n",
              "      <td>2.3378</td>\n",
              "      <td>2.3406</td>\n",
              "      <td>2.3679</td>\n",
              "      <td>2.3372</td>\n",
              "      <td>25907194.99</td>\n",
              "      <td>ADAUSDT</td>\n",
              "      <td>2021</td>\n",
              "      <td>5</td>\n",
              "      <td>19</td>\n",
              "    </tr>\n",
              "    <tr>\n",
              "      <th>2021-05-16 14:00:00</th>\n",
              "      <td>2.3407</td>\n",
              "      <td>2.3188</td>\n",
              "      <td>2.3511</td>\n",
              "      <td>2.3022</td>\n",
              "      <td>29833036.75</td>\n",
              "      <td>ADAUSDT</td>\n",
              "      <td>2021</td>\n",
              "      <td>5</td>\n",
              "      <td>19</td>\n",
              "    </tr>\n",
              "    <tr>\n",
              "      <th>2021-05-16 15:00:00</th>\n",
              "      <td>2.3186</td>\n",
              "      <td>2.2943</td>\n",
              "      <td>2.3196</td>\n",
              "      <td>2.2632</td>\n",
              "      <td>25897002.12</td>\n",
              "      <td>ADAUSDT</td>\n",
              "      <td>2021</td>\n",
              "      <td>5</td>\n",
              "      <td>19</td>\n",
              "    </tr>\n",
              "  </tbody>\n",
              "</table>\n",
              "<p>29560 rows × 9 columns</p>\n",
              "</div>"
            ],
            "text/plain": [
              "                       open   close    high  ...  Year  Month Week\n",
              "2018-01-01 00:00:00     NaN     NaN     NaN  ...  2018      1    1\n",
              "2018-01-01 01:00:00     NaN     NaN     NaN  ...  2018      1    1\n",
              "2018-01-01 02:00:00     NaN     NaN     NaN  ...  2018      1    1\n",
              "2018-01-01 03:00:00     NaN     NaN     NaN  ...  2018      1    1\n",
              "2018-01-01 04:00:00     NaN     NaN     NaN  ...  2018      1    1\n",
              "...                     ...     ...     ...  ...   ...    ...  ...\n",
              "2021-05-16 11:00:00  2.3886  2.3828  2.4216  ...  2021      5   19\n",
              "2021-05-16 12:00:00  2.3829  2.3379  2.3998  ...  2021      5   19\n",
              "2021-05-16 13:00:00  2.3378  2.3406  2.3679  ...  2021      5   19\n",
              "2021-05-16 14:00:00  2.3407  2.3188  2.3511  ...  2021      5   19\n",
              "2021-05-16 15:00:00  2.3186  2.2943  2.3196  ...  2021      5   19\n",
              "\n",
              "[29560 rows x 9 columns]"
            ]
          },
          "metadata": {
            "tags": []
          },
          "execution_count": 38
        }
      ]
    },
    {
      "cell_type": "markdown",
      "metadata": {
        "id": "viZIIqgRZ8Ef"
      },
      "source": [
        "- Indague sobre la existencia de valores faltantes. ¿Cómo trataría a los faltantes? ¿Por qué?\n",
        "\n",
        "\n",
        "Como vimos anteriormente se observa que muchos cripto activos tienen un periodo en el que tienen todos valores NaN, por lo que estos valores se podrian desestimar para redicir el tamaño del dataframe."
      ]
    },
    {
      "cell_type": "code",
      "metadata": {
        "colab": {
          "base_uri": "https://localhost:8080/"
        },
        "id": "fMG3XTDsZ-aC",
        "outputId": "37c84289-babd-4257-a4ef-1e5a17ea75c8"
      },
      "source": [
        "print('Cantidad de filas: ',len(df))\n",
        "print('Cantidad de filas con al menos 5 NaN: ',len(df.dropna(axis=0,subset=['open','close','high','low','volume'],thresh=5)))\n",
        "print('Cantidad de filas con al menos 1 NaN: ' ,len(df.dropna(axis=0,subset=['open','close','high','low','volume'],thresh=1)))"
      ],
      "execution_count": 39,
      "outputs": [
        {
          "output_type": "stream",
          "text": [
            "Cantidad de filas:  472960\n",
            "Cantidad de filas con al menos 5 NaN:  323054\n",
            "Cantidad de filas con al menos 1 NaN:  323054\n"
          ],
          "name": "stdout"
        }
      ]
    },
    {
      "cell_type": "markdown",
      "metadata": {
        "id": "WZdxmvD-hNsA"
      },
      "source": [
        "Se ve que no existen filas en donde por ejemplo la columna volume sea nula y la columna open no.\n",
        "Ya que la cantidad de filas que tienen al menos un dato nulo, es la misma cantidad de filas que al menos tienen 5 datos nulos. por lo que se podrian eliminar todas las filas con valores faltantes ya que no aportarian alguna información, y el periodo vacio quedaria al trabajarlo como serie de tiempo"
      ]
    },
    {
      "cell_type": "code",
      "metadata": {
        "id": "g4D16A-ghpdL"
      },
      "source": [
        "df=df.dropna()"
      ],
      "execution_count": 40,
      "outputs": []
    },
    {
      "cell_type": "markdown",
      "metadata": {
        "id": "YX1IPf_dkset"
      },
      "source": [
        "- Analice las distribuciones por medio de gráficos y medidas de estadística descriptiva (por ejemplo: media, varianza y coeficiente de variación)."
      ]
    },
    {
      "cell_type": "code",
      "metadata": {
        "colab": {
          "base_uri": "https://localhost:8080/",
          "height": 268
        },
        "id": "QG1olVnPkrhc",
        "outputId": "a707a45a-8ca3-45b2-a70b-cc83e0023f83"
      },
      "source": [
        "seaborn.set(rc={'figure.figsize':(11, 4)})\n",
        "df['open'].plot(linewidth=0.5);\n"
      ],
      "execution_count": 41,
      "outputs": [
        {
          "output_type": "display_data",
          "data": {
            "image/png": "[encoded data removed]",
            "text/plain": [
              "<Figure size 792x288 with 1 Axes>"
            ]
          },
          "metadata": {
            "tags": []
          }
        }
      ]
    },
    {
      "cell_type": "code",
      "metadata": {
        "colab": {
          "base_uri": "https://localhost:8080/",
          "height": 279
        },
        "id": "QCE_avCSleSM",
        "outputId": "975e9981-f733-4bf1-d73b-ab8508bcf5e4"
      },
      "source": [
        "df['volume'].plot(linewidth=0.5);"
      ],
      "execution_count": 42,
      "outputs": [
        {
          "output_type": "display_data",
          "data": {
            "image/png": "[encoded data removed]",
            "text/plain": [
              "<Figure size 792x288 with 1 Axes>"
            ]
          },
          "metadata": {
            "tags": []
          }
        }
      ]
    }
  ]
}